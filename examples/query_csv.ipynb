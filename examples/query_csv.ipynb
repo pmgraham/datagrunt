{
 "cells": [
  {
   "cell_type": "code",
   "execution_count": 1,
   "metadata": {},
   "outputs": [],
   "source": [
    "from datagrunt.csvfile import CSVReader"
   ]
  },
  {
   "cell_type": "markdown",
   "metadata": {},
   "source": [
    "### It's recommened to use the `duckdb` engine when querying CSV files. These query examples will work with the Polars engine exactly the same way as presented, but Datagrunt converts all data to strings when using DuckDB and it better preserves the integrity of the data due to not coercing into inferred datatypes. You'll see below that you can use SQL and you can optionally cast columns to different data types as needed.\n",
    "\n",
    "### For example, you'll notice there are postal codes in the data below. Usually, postal codes are read as integers by most processing engines. Many postal codes begin with a `0`. If postal codes are read as an integer, the leading `0` will be dropped erroneously. This can be fixed by using the `lpad` function in Python, but we'd prefer to present the data in its original form as a string as opposed to having the data altered due to data type conversion. "
   ]
  },
  {
   "cell_type": "code",
   "execution_count": 2,
   "metadata": {},
   "outputs": [],
   "source": [
    "csv_file = 'data/electric_vehicle_population_data.csv'\n",
    "engine = 'duckdb'"
   ]
  },
  {
   "cell_type": "code",
   "execution_count": 3,
   "metadata": {},
   "outputs": [],
   "source": [
    "dg = CSVReader(csv_file, engine=engine) # set duckdb as the processing engine."
   ]
  },
  {
   "cell_type": "code",
   "execution_count": 4,
   "metadata": {},
   "outputs": [
    {
     "name": "stdout",
     "output_type": "stream",
     "text": [
      "┌────────────┬───────────┬──────────────┬───┬──────────────────────┬──────────────────────┬───────────────────┐\n",
      "│ VIN (1-10) │  County   │     City     │ … │   Vehicle Location   │   Electric Utility   │ 2020 Census Tract │\n",
      "│  varchar   │  varchar  │   varchar    │   │       varchar        │       varchar        │      varchar      │\n",
      "├────────────┼───────────┼──────────────┼───┼──────────────────────┼──────────────────────┼───────────────────┤\n",
      "│ 5YJSA1E28K │ Snohomish │ Mukilteo     │ … │ POINT (-122.29943 …  │ PUGET SOUND ENERGY…  │ 53061042001       │\n",
      "│ 1C4JJXP68P │ Yakima    │ Yakima       │ … │ POINT (-120.468875…  │ PACIFICORP           │ 53077001601       │\n",
      "│ WBY8P6C05L │ Kitsap    │ Kingston     │ … │ POINT (-122.517835…  │ PUGET SOUND ENERGY…  │ 53035090102       │\n",
      "│ JTDKARFP1J │ Kitsap    │ Port Orchard │ … │ POINT (-122.653005…  │ PUGET SOUND ENERGY…  │ 53035092802       │\n",
      "│ 5UXTA6C09N │ Snohomish │ Everett      │ … │ POINT (-122.203234…  │ PUGET SOUND ENERGY…  │ 53061041605       │\n",
      "│ 5YJYGDEF8L │ King      │ Seattle      │ … │ POINT (-122.378886…  │ CITY OF SEATTLE - …  │ 53033004703       │\n",
      "│ JTMAB3FV7P │ Thurston  │ Rainier      │ … │ POINT (-122.677141…  │ PUGET SOUND ENERGY…  │ 53067012530       │\n",
      "│ JN1AZ0CPXC │ King      │ Kirkland     │ … │ POINT (-122.192596…  │ PUGET SOUND ENERGY…  │ 53033022402       │\n",
      "│ JN1AZ0CP7B │ King      │ Kirkland     │ … │ POINT (-122.192596…  │ PUGET SOUND ENERGY…  │ 53033022603       │\n",
      "│ 1N4AZ0CP0F │ Thurston  │ Olympia      │ … │ POINT (-122.86491 …  │ PUGET SOUND ENERGY…  │ 53067010300       │\n",
      "│     ·      │   ·       │    ·         │ · │          ·           │          ·           │      ·            │\n",
      "│     ·      │   ·       │    ·         │ · │          ·           │          ·           │      ·            │\n",
      "│     ·      │   ·       │    ·         │ · │          ·           │          ·           │      ·            │\n",
      "│ 5YJYGDEE7M │ Clark     │ Vancouver    │ … │ POINT (-122.515805…  │ BONNEVILLE POWER A…  │ 53011041310       │\n",
      "│ 7SAYGAEE0P │ Snohomish │ Monroe       │ … │ POINT (-121.968385…  │ PUGET SOUND ENERGY…  │ 53061052203       │\n",
      "│ 2C4RC1N75P │ King      │ Burien       │ … │ POINT (-122.347227…  │ CITY OF SEATTLE - …  │ 53033027600       │\n",
      "│ 1FTVW1EVXP │ King      │ Kirkland     │ … │ POINT (-122.202653…  │ PUGET SOUND ENERGY…  │ 53033022300       │\n",
      "│ 4JGGM1CB2P │ King      │ Seattle      │ … │ POINT (-122.2453 4…  │ CITY OF SEATTLE - …  │ 53033011700       │\n",
      "│ 1N4BZ0CP0G │ King      │ Seattle      │ … │ POINT (-122.334079…  │ CITY OF SEATTLE - …  │ 53033008300       │\n",
      "│ 7SAYGDEF2N │ King      │ Bellevue     │ … │ POINT (-122.144149…  │ PUGET SOUND ENERGY…  │ 53033024704       │\n",
      "│ 1N4BZ1DP7L │ King      │ Bellevue     │ … │ POINT (-122.144149…  │ PUGET SOUND ENERGY…  │ 53033024902       │\n",
      "│ 1V2GNPE82P │ King      │ Kirkland     │ … │ POINT (-122.202653…  │ PUGET SOUND ENERGY…  │ 53033022201       │\n",
      "│ 7SAYGDEE7P │ Kitsap    │ Bremerton    │ … │ POINT (-122.696120…  │ PUGET SOUND ENERGY…  │ 53035080700       │\n",
      "├────────────┴───────────┴──────────────┴───┴──────────────────────┴──────────────────────┴───────────────────┤\n",
      "│ ? rows (>9999 rows, 20 shown)                                                          17 columns (6 shown) │\n",
      "└─────────────────────────────────────────────────────────────────────────────────────────────────────────────┘\n",
      "\n"
     ]
    }
   ],
   "source": [
    "dg.get_sample() # return sample of the data to get a peek at the schema"
   ]
  },
  {
   "cell_type": "code",
   "execution_count": 5,
   "metadata": {},
   "outputs": [
    {
     "data": {
      "text/html": [
       "<div><style>\n",
       ".dataframe > thead > tr,\n",
       ".dataframe > tbody > tr {\n",
       "  text-align: right;\n",
       "  white-space: pre-wrap;\n",
       "}\n",
       "</style>\n",
       "<small>shape: (200_048, 17)</small><table border=\"1\" class=\"dataframe\"><thead><tr><th>VIN (1-10)</th><th>County</th><th>City</th><th>State</th><th>Postal Code</th><th>Model Year</th><th>Make</th><th>Model</th><th>Electric Vehicle Type</th><th>Clean Alternative Fuel Vehicle (CAFV) Eligibility</th><th>Electric Range</th><th>Base MSRP</th><th>Legislative District</th><th>DOL Vehicle ID</th><th>Vehicle Location</th><th>Electric Utility</th><th>2020 Census Tract</th></tr><tr><td>str</td><td>str</td><td>str</td><td>str</td><td>str</td><td>str</td><td>str</td><td>str</td><td>str</td><td>str</td><td>str</td><td>str</td><td>str</td><td>str</td><td>str</td><td>str</td><td>str</td></tr></thead><tbody><tr><td>&quot;5YJSA1E28K&quot;</td><td>&quot;Snohomish&quot;</td><td>&quot;Mukilteo&quot;</td><td>&quot;WA&quot;</td><td>&quot;98275&quot;</td><td>&quot;2019&quot;</td><td>&quot;TESLA&quot;</td><td>&quot;MODEL S&quot;</td><td>&quot;Battery Electric Vehicle (BEV)&quot;</td><td>&quot;Clean Alternative Fuel Vehicle…</td><td>&quot;270&quot;</td><td>&quot;0&quot;</td><td>&quot;21&quot;</td><td>&quot;236424583&quot;</td><td>&quot;POINT (-122.29943 47.912654)&quot;</td><td>&quot;PUGET SOUND ENERGY INC&quot;</td><td>&quot;53061042001&quot;</td></tr><tr><td>&quot;1C4JJXP68P&quot;</td><td>&quot;Yakima&quot;</td><td>&quot;Yakima&quot;</td><td>&quot;WA&quot;</td><td>&quot;98901&quot;</td><td>&quot;2023&quot;</td><td>&quot;JEEP&quot;</td><td>&quot;WRANGLER&quot;</td><td>&quot;Plug-in Hybrid Electric Vehicl…</td><td>&quot;Not eligible due to low batter…</td><td>&quot;21&quot;</td><td>&quot;0&quot;</td><td>&quot;15&quot;</td><td>&quot;249905295&quot;</td><td>&quot;POINT (-120.4688751 46.6046178…</td><td>&quot;PACIFICORP&quot;</td><td>&quot;53077001601&quot;</td></tr><tr><td>&quot;WBY8P6C05L&quot;</td><td>&quot;Kitsap&quot;</td><td>&quot;Kingston&quot;</td><td>&quot;WA&quot;</td><td>&quot;98346&quot;</td><td>&quot;2020&quot;</td><td>&quot;BMW&quot;</td><td>&quot;I3&quot;</td><td>&quot;Battery Electric Vehicle (BEV)&quot;</td><td>&quot;Clean Alternative Fuel Vehicle…</td><td>&quot;153&quot;</td><td>&quot;0&quot;</td><td>&quot;23&quot;</td><td>&quot;260917289&quot;</td><td>&quot;POINT (-122.5178351 47.7981436…</td><td>&quot;PUGET SOUND ENERGY INC&quot;</td><td>&quot;53035090102&quot;</td></tr><tr><td>&quot;JTDKARFP1J&quot;</td><td>&quot;Kitsap&quot;</td><td>&quot;Port Orchard&quot;</td><td>&quot;WA&quot;</td><td>&quot;98367&quot;</td><td>&quot;2018&quot;</td><td>&quot;TOYOTA&quot;</td><td>&quot;PRIUS PRIME&quot;</td><td>&quot;Plug-in Hybrid Electric Vehicl…</td><td>&quot;Not eligible due to low batter…</td><td>&quot;25&quot;</td><td>&quot;0&quot;</td><td>&quot;26&quot;</td><td>&quot;186410087&quot;</td><td>&quot;POINT (-122.6530052 47.4739066…</td><td>&quot;PUGET SOUND ENERGY INC&quot;</td><td>&quot;53035092802&quot;</td></tr><tr><td>&quot;5UXTA6C09N&quot;</td><td>&quot;Snohomish&quot;</td><td>&quot;Everett&quot;</td><td>&quot;WA&quot;</td><td>&quot;98208&quot;</td><td>&quot;2022&quot;</td><td>&quot;BMW&quot;</td><td>&quot;X5&quot;</td><td>&quot;Plug-in Hybrid Electric Vehicl…</td><td>&quot;Clean Alternative Fuel Vehicle…</td><td>&quot;30&quot;</td><td>&quot;0&quot;</td><td>&quot;44&quot;</td><td>&quot;186076915&quot;</td><td>&quot;POINT (-122.2032349 47.8956271…</td><td>&quot;PUGET SOUND ENERGY INC&quot;</td><td>&quot;53061041605&quot;</td></tr><tr><td>&hellip;</td><td>&hellip;</td><td>&hellip;</td><td>&hellip;</td><td>&hellip;</td><td>&hellip;</td><td>&hellip;</td><td>&hellip;</td><td>&hellip;</td><td>&hellip;</td><td>&hellip;</td><td>&hellip;</td><td>&hellip;</td><td>&hellip;</td><td>&hellip;</td><td>&hellip;</td><td>&hellip;</td></tr><tr><td>&quot;JTMAB3FVXR&quot;</td><td>&quot;Snohomish&quot;</td><td>&quot;Snohomish&quot;</td><td>&quot;WA&quot;</td><td>&quot;98290&quot;</td><td>&quot;2024&quot;</td><td>&quot;TOYOTA&quot;</td><td>&quot;RAV4 PRIME&quot;</td><td>&quot;Plug-in Hybrid Electric Vehicl…</td><td>&quot;Clean Alternative Fuel Vehicle…</td><td>&quot;42&quot;</td><td>&quot;0&quot;</td><td>&quot;44&quot;</td><td>&quot;262809249&quot;</td><td>&quot;POINT (-122.0483457 47.9435765…</td><td>&quot;PUGET SOUND ENERGY INC&quot;</td><td>&quot;53061052402&quot;</td></tr><tr><td>&quot;7FCTGAAA7P&quot;</td><td>&quot;Pierce&quot;</td><td>&quot;Orting&quot;</td><td>&quot;WA&quot;</td><td>&quot;98360&quot;</td><td>&quot;2023&quot;</td><td>&quot;RIVIAN&quot;</td><td>&quot;R1T&quot;</td><td>&quot;Battery Electric Vehicle (BEV)&quot;</td><td>&quot;Eligibility unknown as battery…</td><td>&quot;0&quot;</td><td>&quot;0&quot;</td><td>&quot;2&quot;</td><td>&quot;252195450&quot;</td><td>&quot;POINT (-122.197791 47.0948565)&quot;</td><td>&quot;PUGET SOUND ENERGY INC||CITY O…</td><td>&quot;53053070100&quot;</td></tr><tr><td>&quot;1V2GNPE87P&quot;</td><td>&quot;Spokane&quot;</td><td>&quot;Spokane&quot;</td><td>&quot;WA&quot;</td><td>&quot;99201&quot;</td><td>&quot;2023&quot;</td><td>&quot;VOLKSWAGEN&quot;</td><td>&quot;ID.4&quot;</td><td>&quot;Battery Electric Vehicle (BEV)&quot;</td><td>&quot;Eligibility unknown as battery…</td><td>&quot;0&quot;</td><td>&quot;0&quot;</td><td>&quot;3&quot;</td><td>&quot;227314790&quot;</td><td>&quot;POINT (-117.428902 47.658268)&quot;</td><td>&quot;MODERN ELECTRIC WATER COMPANY&quot;</td><td>&quot;53063002300&quot;</td></tr><tr><td>&quot;1G1RD6E42E&quot;</td><td>&quot;Snohomish&quot;</td><td>&quot;Mountlake Terrace&quot;</td><td>&quot;WA&quot;</td><td>&quot;98043&quot;</td><td>&quot;2014&quot;</td><td>&quot;CHEVROLET&quot;</td><td>&quot;VOLT&quot;</td><td>&quot;Plug-in Hybrid Electric Vehicl…</td><td>&quot;Clean Alternative Fuel Vehicle…</td><td>&quot;38&quot;</td><td>&quot;0&quot;</td><td>&quot;32&quot;</td><td>&quot;170747377&quot;</td><td>&quot;POINT (-122.306706 47.792043)&quot;</td><td>&quot;PUGET SOUND ENERGY INC&quot;</td><td>&quot;53061051000&quot;</td></tr><tr><td>&quot;5YJ3E1EAXP&quot;</td><td>&quot;Kitsap&quot;</td><td>&quot;Bremerton&quot;</td><td>&quot;WA&quot;</td><td>&quot;98311&quot;</td><td>&quot;2023&quot;</td><td>&quot;TESLA&quot;</td><td>&quot;MODEL 3&quot;</td><td>&quot;Battery Electric Vehicle (BEV)&quot;</td><td>&quot;Eligibility unknown as battery…</td><td>&quot;0&quot;</td><td>&quot;0&quot;</td><td>&quot;23&quot;</td><td>&quot;224663134&quot;</td><td>&quot;POINT (-122.636245 47.62806)&quot;</td><td>&quot;PUGET SOUND ENERGY INC&quot;</td><td>&quot;53035091600&quot;</td></tr></tbody></table></div>"
      ],
      "text/plain": [
       "shape: (200_048, 17)\n",
       "┌────────────┬───────────┬────────────┬───────┬───┬────────────┬───────────┬───────────┬───────────┐\n",
       "│ VIN (1-10) ┆ County    ┆ City       ┆ State ┆ … ┆ DOL        ┆ Vehicle   ┆ Electric  ┆ 2020      │\n",
       "│ ---        ┆ ---       ┆ ---        ┆ ---   ┆   ┆ Vehicle ID ┆ Location  ┆ Utility   ┆ Census    │\n",
       "│ str        ┆ str       ┆ str        ┆ str   ┆   ┆ ---        ┆ ---       ┆ ---       ┆ Tract     │\n",
       "│            ┆           ┆            ┆       ┆   ┆ str        ┆ str       ┆ str       ┆ ---       │\n",
       "│            ┆           ┆            ┆       ┆   ┆            ┆           ┆           ┆ str       │\n",
       "╞════════════╪═══════════╪════════════╪═══════╪═══╪════════════╪═══════════╪═══════════╪═══════════╡\n",
       "│ 5YJSA1E28K ┆ Snohomish ┆ Mukilteo   ┆ WA    ┆ … ┆ 236424583  ┆ POINT (-1 ┆ PUGET     ┆ 530610420 │\n",
       "│            ┆           ┆            ┆       ┆   ┆            ┆ 22.29943  ┆ SOUND     ┆ 01        │\n",
       "│            ┆           ┆            ┆       ┆   ┆            ┆ 47.912654 ┆ ENERGY    ┆           │\n",
       "│            ┆           ┆            ┆       ┆   ┆            ┆ )         ┆ INC       ┆           │\n",
       "│ 1C4JJXP68P ┆ Yakima    ┆ Yakima     ┆ WA    ┆ … ┆ 249905295  ┆ POINT (-1 ┆ PACIFICOR ┆ 530770016 │\n",
       "│            ┆           ┆            ┆       ┆   ┆            ┆ 20.468875 ┆ P         ┆ 01        │\n",
       "│            ┆           ┆            ┆       ┆   ┆            ┆ 1 46.6046 ┆           ┆           │\n",
       "│            ┆           ┆            ┆       ┆   ┆            ┆ 178…      ┆           ┆           │\n",
       "│ WBY8P6C05L ┆ Kitsap    ┆ Kingston   ┆ WA    ┆ … ┆ 260917289  ┆ POINT (-1 ┆ PUGET     ┆ 530350901 │\n",
       "│            ┆           ┆            ┆       ┆   ┆            ┆ 22.517835 ┆ SOUND     ┆ 02        │\n",
       "│            ┆           ┆            ┆       ┆   ┆            ┆ 1 47.7981 ┆ ENERGY    ┆           │\n",
       "│            ┆           ┆            ┆       ┆   ┆            ┆ 436…      ┆ INC       ┆           │\n",
       "│ JTDKARFP1J ┆ Kitsap    ┆ Port       ┆ WA    ┆ … ┆ 186410087  ┆ POINT (-1 ┆ PUGET     ┆ 530350928 │\n",
       "│            ┆           ┆ Orchard    ┆       ┆   ┆            ┆ 22.653005 ┆ SOUND     ┆ 02        │\n",
       "│            ┆           ┆            ┆       ┆   ┆            ┆ 2 47.4739 ┆ ENERGY    ┆           │\n",
       "│            ┆           ┆            ┆       ┆   ┆            ┆ 066…      ┆ INC       ┆           │\n",
       "│ 5UXTA6C09N ┆ Snohomish ┆ Everett    ┆ WA    ┆ … ┆ 186076915  ┆ POINT (-1 ┆ PUGET     ┆ 530610416 │\n",
       "│            ┆           ┆            ┆       ┆   ┆            ┆ 22.203234 ┆ SOUND     ┆ 05        │\n",
       "│            ┆           ┆            ┆       ┆   ┆            ┆ 9 47.8956 ┆ ENERGY    ┆           │\n",
       "│            ┆           ┆            ┆       ┆   ┆            ┆ 271…      ┆ INC       ┆           │\n",
       "│ …          ┆ …         ┆ …          ┆ …     ┆ … ┆ …          ┆ …         ┆ …         ┆ …         │\n",
       "│ JTMAB3FVXR ┆ Snohomish ┆ Snohomish  ┆ WA    ┆ … ┆ 262809249  ┆ POINT (-1 ┆ PUGET     ┆ 530610524 │\n",
       "│            ┆           ┆            ┆       ┆   ┆            ┆ 22.048345 ┆ SOUND     ┆ 02        │\n",
       "│            ┆           ┆            ┆       ┆   ┆            ┆ 7 47.9435 ┆ ENERGY    ┆           │\n",
       "│            ┆           ┆            ┆       ┆   ┆            ┆ 765…      ┆ INC       ┆           │\n",
       "│ 7FCTGAAA7P ┆ Pierce    ┆ Orting     ┆ WA    ┆ … ┆ 252195450  ┆ POINT (-1 ┆ PUGET     ┆ 530530701 │\n",
       "│            ┆           ┆            ┆       ┆   ┆            ┆ 22.197791 ┆ SOUND     ┆ 00        │\n",
       "│            ┆           ┆            ┆       ┆   ┆            ┆ 47.094856 ┆ ENERGY    ┆           │\n",
       "│            ┆           ┆            ┆       ┆   ┆            ┆ 5)        ┆ INC||CITY ┆           │\n",
       "│            ┆           ┆            ┆       ┆   ┆            ┆           ┆ O…        ┆           │\n",
       "│ 1V2GNPE87P ┆ Spokane   ┆ Spokane    ┆ WA    ┆ … ┆ 227314790  ┆ POINT (-1 ┆ MODERN    ┆ 530630023 │\n",
       "│            ┆           ┆            ┆       ┆   ┆            ┆ 17.428902 ┆ ELECTRIC  ┆ 00        │\n",
       "│            ┆           ┆            ┆       ┆   ┆            ┆ 47.658268 ┆ WATER     ┆           │\n",
       "│            ┆           ┆            ┆       ┆   ┆            ┆ )         ┆ COMPANY   ┆           │\n",
       "│ 1G1RD6E42E ┆ Snohomish ┆ Mountlake  ┆ WA    ┆ … ┆ 170747377  ┆ POINT (-1 ┆ PUGET     ┆ 530610510 │\n",
       "│            ┆           ┆ Terrace    ┆       ┆   ┆            ┆ 22.306706 ┆ SOUND     ┆ 00        │\n",
       "│            ┆           ┆            ┆       ┆   ┆            ┆ 47.792043 ┆ ENERGY    ┆           │\n",
       "│            ┆           ┆            ┆       ┆   ┆            ┆ )         ┆ INC       ┆           │\n",
       "│ 5YJ3E1EAXP ┆ Kitsap    ┆ Bremerton  ┆ WA    ┆ … ┆ 224663134  ┆ POINT (-1 ┆ PUGET     ┆ 530350916 │\n",
       "│            ┆           ┆            ┆       ┆   ┆            ┆ 22.636245 ┆ SOUND     ┆ 00        │\n",
       "│            ┆           ┆            ┆       ┆   ┆            ┆ 47.62806) ┆ ENERGY    ┆           │\n",
       "│            ┆           ┆            ┆       ┆   ┆            ┆           ┆ INC       ┆           │\n",
       "└────────────┴───────────┴────────────┴───────┴───┴────────────┴───────────┴───────────┴───────────┘"
      ]
     },
     "execution_count": 5,
     "metadata": {},
     "output_type": "execute_result"
    }
   ],
   "source": [
    "df = dg.to_dataframe()\n",
    "df"
   ]
  },
  {
   "cell_type": "markdown",
   "metadata": {},
   "source": [
    "### Write a SQL query and use a f string to interpolate the database table name provided automatically by Datagrunt powered by DuckDB."
   ]
  },
  {
   "cell_type": "code",
   "execution_count": 6,
   "metadata": {},
   "outputs": [],
   "source": [
    "query = f\"\"\"\n",
    "WITH core AS (\n",
    "    SELECT\n",
    "        City AS city,\n",
    "        \"VIN (1-10)\" AS vin\n",
    "    FROM {dg.db_table}\n",
    ")\n",
    "SELECT\n",
    "    city,\n",
    "    COUNT(vin) AS vehicle_count\n",
    "FROM core\n",
    "GROUP BY 1\n",
    "ORDER BY 2 DESC\n",
    "\"\"\""
   ]
  },
  {
   "cell_type": "code",
   "execution_count": 7,
   "metadata": {},
   "outputs": [
    {
     "data": {
      "text/plain": [
       "┌───────────────┬───────────────┐\n",
       "│     city      │ vehicle_count │\n",
       "│    varchar    │     int64     │\n",
       "├───────────────┼───────────────┤\n",
       "│ Seattle       │         32602 │\n",
       "│ Bellevue      │          9960 │\n",
       "│ Redmond       │          7165 │\n",
       "│ Vancouver     │          7081 │\n",
       "│ Bothell       │          6602 │\n",
       "│ Kirkland      │          5883 │\n",
       "│ Renton        │          5835 │\n",
       "│ Sammamish     │          5795 │\n",
       "│ Olympia       │          4830 │\n",
       "│ Tacoma        │          4204 │\n",
       "│   ·           │             · │\n",
       "│   ·           │             · │\n",
       "│   ·           │             · │\n",
       "│ Minneapolis   │             1 │\n",
       "│ Hamilton      │             1 │\n",
       "│ Bedford       │             1 │\n",
       "│ Waldorf       │             1 │\n",
       "│ Las Cruces    │             1 │\n",
       "│ Conyers       │             1 │\n",
       "│ Benicia       │             1 │\n",
       "│ Ellicott City │             1 │\n",
       "│ Sausalito     │             1 │\n",
       "│ Fallon        │             1 │\n",
       "├───────────────┴───────────────┤\n",
       "│      764 rows (20 shown)      │\n",
       "└───────────────────────────────┘"
      ]
     },
     "execution_count": 7,
     "metadata": {},
     "output_type": "execute_result"
    }
   ],
   "source": [
    "dg.query_data(query)"
   ]
  },
  {
   "cell_type": "markdown",
   "metadata": {},
   "source": [
    "### Run the query again and return to a Polars dataframe"
   ]
  },
  {
   "cell_type": "code",
   "execution_count": 8,
   "metadata": {},
   "outputs": [
    {
     "data": {
      "text/html": [
       "<div><style>\n",
       ".dataframe > thead > tr,\n",
       ".dataframe > tbody > tr {\n",
       "  text-align: right;\n",
       "  white-space: pre-wrap;\n",
       "}\n",
       "</style>\n",
       "<small>shape: (764, 2)</small><table border=\"1\" class=\"dataframe\"><thead><tr><th>city</th><th>vehicle_count</th></tr><tr><td>str</td><td>i64</td></tr></thead><tbody><tr><td>&quot;Seattle&quot;</td><td>32602</td></tr><tr><td>&quot;Bellevue&quot;</td><td>9960</td></tr><tr><td>&quot;Redmond&quot;</td><td>7165</td></tr><tr><td>&quot;Vancouver&quot;</td><td>7081</td></tr><tr><td>&quot;Bothell&quot;</td><td>6602</td></tr><tr><td>&hellip;</td><td>&hellip;</td></tr><tr><td>&quot;Gunpowder&quot;</td><td>1</td></tr><tr><td>&quot;Holden Village&quot;</td><td>1</td></tr><tr><td>&quot;Yorktown&quot;</td><td>1</td></tr><tr><td>&quot;Ridgecrest&quot;</td><td>1</td></tr><tr><td>&quot;Startup&quot;</td><td>1</td></tr></tbody></table></div>"
      ],
      "text/plain": [
       "shape: (764, 2)\n",
       "┌────────────────┬───────────────┐\n",
       "│ city           ┆ vehicle_count │\n",
       "│ ---            ┆ ---           │\n",
       "│ str            ┆ i64           │\n",
       "╞════════════════╪═══════════════╡\n",
       "│ Seattle        ┆ 32602         │\n",
       "│ Bellevue       ┆ 9960          │\n",
       "│ Redmond        ┆ 7165          │\n",
       "│ Vancouver      ┆ 7081          │\n",
       "│ Bothell        ┆ 6602          │\n",
       "│ …              ┆ …             │\n",
       "│ Gunpowder      ┆ 1             │\n",
       "│ Holden Village ┆ 1             │\n",
       "│ Yorktown       ┆ 1             │\n",
       "│ Ridgecrest     ┆ 1             │\n",
       "│ Startup        ┆ 1             │\n",
       "└────────────────┴───────────────┘"
      ]
     },
     "execution_count": 8,
     "metadata": {},
     "output_type": "execute_result"
    }
   ],
   "source": [
    "dg.query_data(query).pl()"
   ]
  },
  {
   "cell_type": "markdown",
   "metadata": {},
   "source": [
    "### Run the query yet again and return a Pandas dataframe"
   ]
  },
  {
   "cell_type": "code",
   "execution_count": 9,
   "metadata": {},
   "outputs": [
    {
     "data": {
      "text/html": [
       "<div>\n",
       "<style scoped>\n",
       "    .dataframe tbody tr th:only-of-type {\n",
       "        vertical-align: middle;\n",
       "    }\n",
       "\n",
       "    .dataframe tbody tr th {\n",
       "        vertical-align: top;\n",
       "    }\n",
       "\n",
       "    .dataframe thead th {\n",
       "        text-align: right;\n",
       "    }\n",
       "</style>\n",
       "<table border=\"1\" class=\"dataframe\">\n",
       "  <thead>\n",
       "    <tr style=\"text-align: right;\">\n",
       "      <th></th>\n",
       "      <th>city</th>\n",
       "      <th>vehicle_count</th>\n",
       "    </tr>\n",
       "  </thead>\n",
       "  <tbody>\n",
       "    <tr>\n",
       "      <th>0</th>\n",
       "      <td>Seattle</td>\n",
       "      <td>32602</td>\n",
       "    </tr>\n",
       "    <tr>\n",
       "      <th>1</th>\n",
       "      <td>Bellevue</td>\n",
       "      <td>9960</td>\n",
       "    </tr>\n",
       "    <tr>\n",
       "      <th>2</th>\n",
       "      <td>Redmond</td>\n",
       "      <td>7165</td>\n",
       "    </tr>\n",
       "    <tr>\n",
       "      <th>3</th>\n",
       "      <td>Vancouver</td>\n",
       "      <td>7081</td>\n",
       "    </tr>\n",
       "    <tr>\n",
       "      <th>4</th>\n",
       "      <td>Bothell</td>\n",
       "      <td>6602</td>\n",
       "    </tr>\n",
       "    <tr>\n",
       "      <th>...</th>\n",
       "      <td>...</td>\n",
       "      <td>...</td>\n",
       "    </tr>\n",
       "    <tr>\n",
       "      <th>759</th>\n",
       "      <td>Deer Harbor</td>\n",
       "      <td>1</td>\n",
       "    </tr>\n",
       "    <tr>\n",
       "      <th>760</th>\n",
       "      <td>North Las Vegas</td>\n",
       "      <td>1</td>\n",
       "    </tr>\n",
       "    <tr>\n",
       "      <th>761</th>\n",
       "      <td>Vista</td>\n",
       "      <td>1</td>\n",
       "    </tr>\n",
       "    <tr>\n",
       "      <th>762</th>\n",
       "      <td>Tempe</td>\n",
       "      <td>1</td>\n",
       "    </tr>\n",
       "    <tr>\n",
       "      <th>763</th>\n",
       "      <td>Green Bay</td>\n",
       "      <td>1</td>\n",
       "    </tr>\n",
       "  </tbody>\n",
       "</table>\n",
       "<p>764 rows × 2 columns</p>\n",
       "</div>"
      ],
      "text/plain": [
       "                city  vehicle_count\n",
       "0            Seattle          32602\n",
       "1           Bellevue           9960\n",
       "2            Redmond           7165\n",
       "3          Vancouver           7081\n",
       "4            Bothell           6602\n",
       "..               ...            ...\n",
       "759      Deer Harbor              1\n",
       "760  North Las Vegas              1\n",
       "761            Vista              1\n",
       "762            Tempe              1\n",
       "763        Green Bay              1\n",
       "\n",
       "[764 rows x 2 columns]"
      ]
     },
     "execution_count": 9,
     "metadata": {},
     "output_type": "execute_result"
    }
   ],
   "source": [
    "dg.query_data(query).to_df()"
   ]
  },
  {
   "cell_type": "markdown",
   "metadata": {},
   "source": [
    "### Select directly from the dataframe object above assigned to the `df` variable. Do not use a f string to interpolate the `df` variable as an object. Instead, reference the `df` object in the `FROM` statement that's embedded in the query string.\n",
    "\n",
    "### Also notice that we're using SQL to make the `VIN (1-10)` column name more friendly with a SQL alias in the CTE."
   ]
  },
  {
   "cell_type": "code",
   "execution_count": 10,
   "metadata": {},
   "outputs": [],
   "source": [
    "df_query = f\"\"\"\n",
    "WITH core AS (\n",
    "    SELECT\n",
    "        City AS city,\n",
    "        \"VIN (1-10)\" AS vin\n",
    "    FROM df\n",
    ")\n",
    "SELECT\n",
    "    city,\n",
    "    COUNT(vin) AS vehicle_count\n",
    "FROM core\n",
    "GROUP BY 1\n",
    "ORDER BY 2 DESC\n",
    "\"\"\""
   ]
  },
  {
   "cell_type": "markdown",
   "metadata": {},
   "source": [
    "### Return the results from querying the dataframe."
   ]
  },
  {
   "cell_type": "code",
   "execution_count": 11,
   "metadata": {},
   "outputs": [
    {
     "data": {
      "text/plain": [
       "┌──────────────────┬───────────────┐\n",
       "│       city       │ vehicle_count │\n",
       "│     varchar      │     int64     │\n",
       "├──────────────────┼───────────────┤\n",
       "│ Seattle          │         32602 │\n",
       "│ Bellevue         │          9960 │\n",
       "│ Redmond          │          7165 │\n",
       "│ Vancouver        │          7081 │\n",
       "│ Bothell          │          6602 │\n",
       "│ Kirkland         │          5883 │\n",
       "│ Renton           │          5835 │\n",
       "│ Sammamish        │          5795 │\n",
       "│ Olympia          │          4830 │\n",
       "│ Tacoma           │          4204 │\n",
       "│   ·              │             · │\n",
       "│   ·              │             · │\n",
       "│   ·              │             · │\n",
       "│ Lamont           │             1 │\n",
       "│ Dickinson        │             1 │\n",
       "│ Saratoga Springs │             1 │\n",
       "│ Gunpowder        │             1 │\n",
       "│ Holden Village   │             1 │\n",
       "│ Yorktown         │             1 │\n",
       "│ Ridgecrest       │             1 │\n",
       "│ Startup          │             1 │\n",
       "│ Sacramento       │             1 │\n",
       "│ Washtucna        │             1 │\n",
       "├──────────────────┴───────────────┤\n",
       "│ 764 rows (20 shown)    2 columns │\n",
       "└──────────────────────────────────┘"
      ]
     },
     "execution_count": 11,
     "metadata": {},
     "output_type": "execute_result"
    }
   ],
   "source": [
    "dg.query_data(df_query)"
   ]
  },
  {
   "cell_type": "markdown",
   "metadata": {},
   "source": [
    "### Query the dataframe using the `df_query` SQL query string and return the results to a Polars dataframe. The benefit here is you can use the power of SQL to transform data in a dataframe and return the results to a new dataframe object."
   ]
  },
  {
   "cell_type": "code",
   "execution_count": 12,
   "metadata": {},
   "outputs": [
    {
     "data": {
      "text/html": [
       "<div><style>\n",
       ".dataframe > thead > tr,\n",
       ".dataframe > tbody > tr {\n",
       "  text-align: right;\n",
       "  white-space: pre-wrap;\n",
       "}\n",
       "</style>\n",
       "<small>shape: (764, 2)</small><table border=\"1\" class=\"dataframe\"><thead><tr><th>city</th><th>vehicle_count</th></tr><tr><td>str</td><td>i64</td></tr></thead><tbody><tr><td>&quot;Seattle&quot;</td><td>32602</td></tr><tr><td>&quot;Bellevue&quot;</td><td>9960</td></tr><tr><td>&quot;Redmond&quot;</td><td>7165</td></tr><tr><td>&quot;Vancouver&quot;</td><td>7081</td></tr><tr><td>&quot;Bothell&quot;</td><td>6602</td></tr><tr><td>&hellip;</td><td>&hellip;</td></tr><tr><td>&quot;Vista&quot;</td><td>1</td></tr><tr><td>&quot;Tempe&quot;</td><td>1</td></tr><tr><td>&quot;Green Bay&quot;</td><td>1</td></tr><tr><td>&quot;Waverly&quot;</td><td>1</td></tr><tr><td>&quot;Creston&quot;</td><td>1</td></tr></tbody></table></div>"
      ],
      "text/plain": [
       "shape: (764, 2)\n",
       "┌───────────┬───────────────┐\n",
       "│ city      ┆ vehicle_count │\n",
       "│ ---       ┆ ---           │\n",
       "│ str       ┆ i64           │\n",
       "╞═══════════╪═══════════════╡\n",
       "│ Seattle   ┆ 32602         │\n",
       "│ Bellevue  ┆ 9960          │\n",
       "│ Redmond   ┆ 7165          │\n",
       "│ Vancouver ┆ 7081          │\n",
       "│ Bothell   ┆ 6602          │\n",
       "│ …         ┆ …             │\n",
       "│ Vista     ┆ 1             │\n",
       "│ Tempe     ┆ 1             │\n",
       "│ Green Bay ┆ 1             │\n",
       "│ Waverly   ┆ 1             │\n",
       "│ Creston   ┆ 1             │\n",
       "└───────────┴───────────────┘"
      ]
     },
     "execution_count": 12,
     "metadata": {},
     "output_type": "execute_result"
    }
   ],
   "source": [
    "dataframe_query_polars_df = dg.query_data(df_query).pl()\n",
    "dataframe_query_polars_df"
   ]
  },
  {
   "cell_type": "markdown",
   "metadata": {},
   "source": [
    "### You can optionally use the `to_df` method to return the dataframe results as a Pandas dataframe. The beauty of this is that we're querying from a Polars dataframe, we use SQL to transform the data powered by DuckDB, and then we're returning the results to a Pandas dataframe. Datagrunt is designed to offer power, simplicity, and flexibility when working with CSV files."
   ]
  },
  {
   "cell_type": "code",
   "execution_count": 13,
   "metadata": {},
   "outputs": [
    {
     "data": {
      "text/html": [
       "<div>\n",
       "<style scoped>\n",
       "    .dataframe tbody tr th:only-of-type {\n",
       "        vertical-align: middle;\n",
       "    }\n",
       "\n",
       "    .dataframe tbody tr th {\n",
       "        vertical-align: top;\n",
       "    }\n",
       "\n",
       "    .dataframe thead th {\n",
       "        text-align: right;\n",
       "    }\n",
       "</style>\n",
       "<table border=\"1\" class=\"dataframe\">\n",
       "  <thead>\n",
       "    <tr style=\"text-align: right;\">\n",
       "      <th></th>\n",
       "      <th>city</th>\n",
       "      <th>vehicle_count</th>\n",
       "    </tr>\n",
       "  </thead>\n",
       "  <tbody>\n",
       "    <tr>\n",
       "      <th>0</th>\n",
       "      <td>Seattle</td>\n",
       "      <td>32602</td>\n",
       "    </tr>\n",
       "    <tr>\n",
       "      <th>1</th>\n",
       "      <td>Bellevue</td>\n",
       "      <td>9960</td>\n",
       "    </tr>\n",
       "    <tr>\n",
       "      <th>2</th>\n",
       "      <td>Redmond</td>\n",
       "      <td>7165</td>\n",
       "    </tr>\n",
       "    <tr>\n",
       "      <th>3</th>\n",
       "      <td>Vancouver</td>\n",
       "      <td>7081</td>\n",
       "    </tr>\n",
       "    <tr>\n",
       "      <th>4</th>\n",
       "      <td>Bothell</td>\n",
       "      <td>6602</td>\n",
       "    </tr>\n",
       "    <tr>\n",
       "      <th>...</th>\n",
       "      <td>...</td>\n",
       "      <td>...</td>\n",
       "    </tr>\n",
       "    <tr>\n",
       "      <th>759</th>\n",
       "      <td>Vista</td>\n",
       "      <td>1</td>\n",
       "    </tr>\n",
       "    <tr>\n",
       "      <th>760</th>\n",
       "      <td>Tempe</td>\n",
       "      <td>1</td>\n",
       "    </tr>\n",
       "    <tr>\n",
       "      <th>761</th>\n",
       "      <td>Green Bay</td>\n",
       "      <td>1</td>\n",
       "    </tr>\n",
       "    <tr>\n",
       "      <th>762</th>\n",
       "      <td>Waverly</td>\n",
       "      <td>1</td>\n",
       "    </tr>\n",
       "    <tr>\n",
       "      <th>763</th>\n",
       "      <td>Creston</td>\n",
       "      <td>1</td>\n",
       "    </tr>\n",
       "  </tbody>\n",
       "</table>\n",
       "<p>764 rows × 2 columns</p>\n",
       "</div>"
      ],
      "text/plain": [
       "          city  vehicle_count\n",
       "0      Seattle          32602\n",
       "1     Bellevue           9960\n",
       "2      Redmond           7165\n",
       "3    Vancouver           7081\n",
       "4      Bothell           6602\n",
       "..         ...            ...\n",
       "759      Vista              1\n",
       "760      Tempe              1\n",
       "761  Green Bay              1\n",
       "762    Waverly              1\n",
       "763    Creston              1\n",
       "\n",
       "[764 rows x 2 columns]"
      ]
     },
     "execution_count": 13,
     "metadata": {},
     "output_type": "execute_result"
    }
   ],
   "source": [
    "dataframe_query_pandas_df = dg.query_data(df_query).to_df()\n",
    "dataframe_query_pandas_df"
   ]
  }
 ],
 "metadata": {
  "kernelspec": {
   "display_name": ".venv",
   "language": "python",
   "name": "python3"
  },
  "language_info": {
   "codemirror_mode": {
    "name": "ipython",
    "version": 3
   },
   "file_extension": ".py",
   "mimetype": "text/x-python",
   "name": "python",
   "nbconvert_exporter": "python",
   "pygments_lexer": "ipython3",
   "version": "3.12.5"
  }
 },
 "nbformat": 4,
 "nbformat_minor": 2
}
