{
 "cells": [
  {
   "cell_type": "code",
   "execution_count": 1,
   "metadata": {},
   "outputs": [],
   "source": [
    "from datagrunt.csvfile import CSVReader"
   ]
  },
  {
   "cell_type": "markdown",
   "metadata": {},
   "source": [
    "### Polars is the default processing engine, so no need to pass the `engine` param."
   ]
  },
  {
   "cell_type": "markdown",
   "metadata": {},
   "source": []
  },
  {
   "cell_type": "code",
   "execution_count": 2,
   "metadata": {},
   "outputs": [],
   "source": [
    "csv_file = 'data/electric_vehicle_population_data.csv'"
   ]
  },
  {
   "cell_type": "code",
   "execution_count": 3,
   "metadata": {},
   "outputs": [],
   "source": [
    "dg = CSVReader(csv_file) # Polars is the default engine so no need to pass the engine param."
   ]
  },
  {
   "cell_type": "markdown",
   "metadata": {},
   "source": [
    "### Return a sample of the CSV file to peek into the schema"
   ]
  },
  {
   "cell_type": "code",
   "execution_count": 4,
   "metadata": {},
   "outputs": [
    {
     "name": "stderr",
     "output_type": "stream",
     "text": [
      "INFO - shape: (20, 17)\n",
      "┌────────────┬───────────┬────────────┬───────┬───┬────────────┬───────────┬───────────┬───────────┐\n",
      "│ VIN (1-10) ┆ County    ┆ City       ┆ State ┆ … ┆ DOL        ┆ Vehicle   ┆ Electric  ┆ 2020      │\n",
      "│ ---        ┆ ---       ┆ ---        ┆ ---   ┆   ┆ Vehicle ID ┆ Location  ┆ Utility   ┆ Census    │\n",
      "│ str        ┆ str       ┆ str        ┆ str   ┆   ┆ ---        ┆ ---       ┆ ---       ┆ Tract     │\n",
      "│            ┆           ┆            ┆       ┆   ┆ i64        ┆ str       ┆ str       ┆ ---       │\n",
      "│            ┆           ┆            ┆       ┆   ┆            ┆           ┆           ┆ i64       │\n",
      "╞════════════╪═══════════╪════════════╪═══════╪═══╪════════════╪═══════════╪═══════════╪═══════════╡\n",
      "│ 5YJSA1E28K ┆ Snohomish ┆ Mukilteo   ┆ WA    ┆ … ┆ 236424583  ┆ POINT (-1 ┆ PUGET     ┆ 530610420 │\n",
      "│            ┆           ┆            ┆       ┆   ┆            ┆ 22.29943  ┆ SOUND     ┆ 01        │\n",
      "│            ┆           ┆            ┆       ┆   ┆            ┆ 47.912654 ┆ ENERGY    ┆           │\n",
      "│            ┆           ┆            ┆       ┆   ┆            ┆ )         ┆ INC       ┆           │\n",
      "│ 1C4JJXP68P ┆ Yakima    ┆ Yakima     ┆ WA    ┆ … ┆ 249905295  ┆ POINT (-1 ┆ PACIFICOR ┆ 530770016 │\n",
      "│            ┆           ┆            ┆       ┆   ┆            ┆ 20.468875 ┆ P         ┆ 01        │\n",
      "│            ┆           ┆            ┆       ┆   ┆            ┆ 1 46.6046 ┆           ┆           │\n",
      "│            ┆           ┆            ┆       ┆   ┆            ┆ 178…      ┆           ┆           │\n",
      "│ WBY8P6C05L ┆ Kitsap    ┆ Kingston   ┆ WA    ┆ … ┆ 260917289  ┆ POINT (-1 ┆ PUGET     ┆ 530350901 │\n",
      "│            ┆           ┆            ┆       ┆   ┆            ┆ 22.517835 ┆ SOUND     ┆ 02        │\n",
      "│            ┆           ┆            ┆       ┆   ┆            ┆ 1 47.7981 ┆ ENERGY    ┆           │\n",
      "│            ┆           ┆            ┆       ┆   ┆            ┆ 436…      ┆ INC       ┆           │\n",
      "│ JTDKARFP1J ┆ Kitsap    ┆ Port       ┆ WA    ┆ … ┆ 186410087  ┆ POINT (-1 ┆ PUGET     ┆ 530350928 │\n",
      "│            ┆           ┆ Orchard    ┆       ┆   ┆            ┆ 22.653005 ┆ SOUND     ┆ 02        │\n",
      "│            ┆           ┆            ┆       ┆   ┆            ┆ 2 47.4739 ┆ ENERGY    ┆           │\n",
      "│            ┆           ┆            ┆       ┆   ┆            ┆ 066…      ┆ INC       ┆           │\n",
      "│ 5UXTA6C09N ┆ Snohomish ┆ Everett    ┆ WA    ┆ … ┆ 186076915  ┆ POINT (-1 ┆ PUGET     ┆ 530610416 │\n",
      "│            ┆           ┆            ┆       ┆   ┆            ┆ 22.203234 ┆ SOUND     ┆ 05        │\n",
      "│            ┆           ┆            ┆       ┆   ┆            ┆ 9 47.8956 ┆ ENERGY    ┆           │\n",
      "│            ┆           ┆            ┆       ┆   ┆            ┆ 271…      ┆ INC       ┆           │\n",
      "│ …          ┆ …         ┆ …          ┆ …     ┆ … ┆ …          ┆ …         ┆ …         ┆ …         │\n",
      "│ 1FTVW1EV4P ┆ Snohomish ┆ Mill Creek ┆ WA    ┆ … ┆ 224463865  ┆ POINT (-1 ┆ PUGET     ┆ 530610520 │\n",
      "│            ┆           ┆            ┆       ┆   ┆            ┆ 22.206146 ┆ SOUND     ┆ 08        │\n",
      "│            ┆           ┆            ┆       ┆   ┆            ┆ 47.839957 ┆ ENERGY    ┆           │\n",
      "│            ┆           ┆            ┆       ┆   ┆            ┆ )         ┆ INC       ┆           │\n",
      "│ 3MW5P9J08M ┆ King      ┆ Seattle    ┆ WA    ┆ … ┆ 171464555  ┆ POINT (-1 ┆ CITY OF   ┆ 530330072 │\n",
      "│            ┆           ┆            ┆       ┆   ┆            ┆ 22.344153 ┆ SEATTLE - ┆ 03        │\n",
      "│            ┆           ┆            ┆       ┆   ┆            ┆ 2 47.6305 ┆ (WA)|CITY ┆           │\n",
      "│            ┆           ┆            ┆       ┆   ┆            ┆ 366…      ┆ OF…       ┆           │\n",
      "│ 1N4AZ1CP6K ┆ King      ┆ Bothell    ┆ WA    ┆ … ┆ 334557891  ┆ POINT (-1 ┆ PUGET     ┆ 530330220 │\n",
      "│            ┆           ┆            ┆       ┆   ┆            ┆ 22.201408 ┆ SOUND     ┆ 01        │\n",
      "│            ┆           ┆            ┆       ┆   ┆            ┆ 47.754528 ┆ ENERGY    ┆           │\n",
      "│            ┆           ┆            ┆       ┆   ┆            ┆ )         ┆ INC||CITY ┆           │\n",
      "│            ┆           ┆            ┆       ┆   ┆            ┆           ┆ O…        ┆           │\n",
      "│ 5LMTJ5DZ7P ┆ Island    ┆ Oak Harbor ┆ WA    ┆ … ┆ 261219304  ┆ POINT (-1 ┆ PUGET     ┆ 530299708 │\n",
      "│            ┆           ┆            ┆       ┆   ┆            ┆ 22.644716 ┆ SOUND     ┆ 00        │\n",
      "│            ┆           ┆            ┆       ┆   ┆            ┆ 4 48.3015 ┆ ENERGY    ┆           │\n",
      "│            ┆           ┆            ┆       ┆   ┆            ┆ 146…      ┆ INC       ┆           │\n",
      "│ 5YJ3E1EA4K ┆ Snohomish ┆ Everett    ┆ WA    ┆ … ┆ 478330212  ┆ POINT (-1 ┆ PUGET     ┆ 530610419 │\n",
      "│            ┆           ┆            ┆       ┆   ┆            ┆ 22.250721 ┆ SOUND     ┆ 01        │\n",
      "│            ┆           ┆            ┆       ┆   ┆            ┆ 1 47.8976 ┆ ENERGY    ┆           │\n",
      "│            ┆           ┆            ┆       ┆   ┆            ┆ 713…      ┆ INC       ┆           │\n",
      "└────────────┴───────────┴────────────┴───────┴───┴────────────┴───────────┴───────────┴───────────┘\n"
     ]
    }
   ],
   "source": [
    "dg.get_sample() # return sample of the data to get a peek at the schema"
   ]
  },
  {
   "cell_type": "markdown",
   "metadata": {},
   "source": [
    "### Return data as a Pyarrow table"
   ]
  },
  {
   "cell_type": "code",
   "execution_count": 5,
   "metadata": {},
   "outputs": [
    {
     "data": {
      "text/plain": [
       "pyarrow.Table\n",
       "VIN (1-10): large_string\n",
       "County: large_string\n",
       "City: large_string\n",
       "State: large_string\n",
       "Postal Code: int64\n",
       "Model Year: int64\n",
       "Make: large_string\n",
       "Model: large_string\n",
       "Electric Vehicle Type: large_string\n",
       "Clean Alternative Fuel Vehicle (CAFV) Eligibility: large_string\n",
       "Electric Range: int64\n",
       "Base MSRP: int64\n",
       "Legislative District: int64\n",
       "DOL Vehicle ID: int64\n",
       "Vehicle Location: large_string\n",
       "Electric Utility: large_string\n",
       "2020 Census Tract: int64\n",
       "----\n",
       "VIN (1-10): [[\"5YJSA1E28K\",\"1C4JJXP68P\",\"WBY8P6C05L\",\"JTDKARFP1J\",\"5UXTA6C09N\",...,\"7SAYGDEE9P\",\"5YJYGDEE2M\",\"7SAYGDEE6P\",\"7SAYGDEE0P\",\"5YJ3E1EA9M\"],[\"1N4AZ1CP4K\",\"1C4JJXN60P\",\"7SAXCBE56P\",\"1GYKPVRLXR\",\"1C4JJXN63P\",...,\"5YJYGDEE4L\",\"WBY1Z4C57F\",\"5YJ3E1EA3M\",\"5YJYGDEFXL\",\"1FADP5EU1H\"],...,[\"5YJ3E1ECXN\",\"1G1RC6S50J\",\"7SAYGDEF9N\",\"1V2JNPE84P\",\"5UX43EU05R\",...,\"1N4AZ0CP1F\",\"1V2WNPE80P\",\"1FT6W1EV2N\",\"WMW13DJ04N\",\"5YJ3E1EA8P\"],[\"5LMYJ8XY2N\",\"2C4RC1S75R\",\"5YJYGDEE0M\",\"1N4BZ1CV0N\",\"7SAYGDEE9P\",...,\"JTMAB3FVXR\",\"7FCTGAAA7P\",\"1V2GNPE87P\",\"1G1RD6E42E\",\"5YJ3E1EAXP\"]]\n",
       "County: [[\"Snohomish\",\"Yakima\",\"Kitsap\",\"Kitsap\",\"Snohomish\",...,\"King\",\"King\",\"King\",\"King\",\"King\"],[\"Whatcom\",\"King\",\"King\",\"King\",\"King\",...,\"King\",\"King\",\"Snohomish\",\"King\",\"Snohomish\"],...,[\"King\",\"Pierce\",\"King\",\"King\",\"Benton\",...,\"Pierce\",\"Clark\",\"Pierce\",\"Pierce\",\"Benton\"],[\"King\",\"Lewis\",\"Thurston\",\"Snohomish\",\"Snohomish\",...,\"Snohomish\",\"Pierce\",\"Spokane\",\"Snohomish\",\"Kitsap\"]]\n",
       "City: [[\"Mukilteo\",\"Yakima\",\"Kingston\",\"Port Orchard\",\"Everett\",...,\"Bothell\",\"Seattle\",\"Redmond\",\"Sammamish\",\"Seattle\"],[\"Blaine\",\"Tukwila\",\"Newcastle\",\"Bellevue\",\"Tukwila\",...,\"Sammamish\",\"Seattle\",\"Lynnwood\",\"Seattle\",\"Everett\"],...,[\"Bellevue\",\"Spanaway\",\"Bellevue\",\"Seattle\",\"Kennewick\",...,\"Gig Harbor\",\"Vancouver\",\"University Place\",\"Tacoma\",\"Richland\"],[\"Shoreline\",\"Centralia\",\"Olympia\",\"Marysville\",\"Everett\",...,\"Snohomish\",\"Orting\",\"Spokane\",\"Mountlake Terrace\",\"Bremerton\"]]\n",
       "State: [[\"WA\",\"WA\",\"WA\",\"WA\",\"WA\",...,\"WA\",\"WA\",\"WA\",\"WA\",\"WA\"],[\"WA\",\"WA\",\"WA\",\"WA\",\"WA\",...,\"WA\",\"WA\",\"WA\",\"WA\",\"WA\"],...,[\"WA\",\"WA\",\"WA\",\"WA\",\"WA\",...,\"WA\",\"WA\",\"WA\",\"WA\",\"WA\"],[\"WA\",\"WA\",\"WA\",\"WA\",\"WA\",...,\"WA\",\"WA\",\"WA\",\"WA\",\"WA\"]]\n",
       "Postal Code: [[98275,98901,98346,98367,98208,...,98011,98122,98052,98075,98109],[98230,98188,98059,98005,98188,...,98074,98116,98087,98115,98201],...,[98004,98387,98004,98103,99338,...,98329,98682,98466,98406,99352],[98155,98531,98503,98270,98201,...,98290,98360,99201,98043,98311]]\n",
       "Model Year: [[2019,2023,2020,2018,2022,...,2023,2021,2023,2023,2021],[2019,2023,2023,2024,2023,...,2020,2015,2021,2020,2017],...,[2022,2018,2022,2023,2024,...,2015,2023,2022,2022,2023],[2022,2024,2021,2022,2023,...,2024,2023,2023,2014,2023]]\n",
       "Make: [[\"TESLA\",\"JEEP\",\"BMW\",\"TOYOTA\",\"BMW\",...,\"TESLA\",\"TESLA\",\"TESLA\",\"TESLA\",\"TESLA\"],[\"NISSAN\",\"JEEP\",\"TESLA\",\"CADILLAC\",\"JEEP\",...,\"TESLA\",\"BMW\",\"TESLA\",\"TESLA\",\"FORD\"],...,[\"TESLA\",\"CHEVROLET\",\"TESLA\",\"VOLKSWAGEN\",\"BMW\",...,\"NISSAN\",\"VOLKSWAGEN\",\"FORD\",\"MINI\",\"TESLA\"],[\"LINCOLN\",\"CHRYSLER\",\"TESLA\",\"NISSAN\",\"TESLA\",...,\"TOYOTA\",\"RIVIAN\",\"VOLKSWAGEN\",\"CHEVROLET\",\"TESLA\"]]\n",
       "Model: [[\"MODEL S\",\"WRANGLER\",\"I3\",\"PRIUS PRIME\",\"X5\",...,\"MODEL Y\",\"MODEL Y\",\"MODEL Y\",\"MODEL Y\",\"MODEL 3\"],[\"LEAF\",\"WRANGLER\",\"MODEL X\",\"LYRIQ\",\"WRANGLER\",...,\"MODEL Y\",\"I3\",\"MODEL 3\",\"MODEL Y\",\"C-MAX\"],...,[\"MODEL 3\",\"VOLT\",\"MODEL Y\",\"ID.4\",\"X5\",...,\"LEAF\",\"ID.4\",\"F-150\",\"HARDTOP\",\"MODEL 3\"],[\"AVIATOR\",\"PACIFICA\",\"MODEL Y\",\"LEAF\",\"MODEL Y\",...,\"RAV4 PRIME\",\"R1T\",\"ID.4\",\"VOLT\",\"MODEL 3\"]]\n",
       "Electric Vehicle Type: [[\"Battery Electric Vehicle (BEV)\",\"Plug-in Hybrid Electric Vehicle (PHEV)\",\"Battery Electric Vehicle (BEV)\",\"Plug-in Hybrid Electric Vehicle (PHEV)\",\"Plug-in Hybrid Electric Vehicle (PHEV)\",...,\"Battery Electric Vehicle (BEV)\",\"Battery Electric Vehicle (BEV)\",\"Battery Electric Vehicle (BEV)\",\"Battery Electric Vehicle (BEV)\",\"Battery Electric Vehicle (BEV)\"],[\"Battery Electric Vehicle (BEV)\",\"Plug-in Hybrid Electric Vehicle (PHEV)\",\"Battery Electric Vehicle (BEV)\",\"Battery Electric Vehicle (BEV)\",\"Plug-in Hybrid Electric Vehicle (PHEV)\",...,\"Battery Electric Vehicle (BEV)\",\"Plug-in Hybrid Electric Vehicle (PHEV)\",\"Battery Electric Vehicle (BEV)\",\"Battery Electric Vehicle (BEV)\",\"Plug-in Hybrid Electric Vehicle (PHEV)\"],...,[\"Battery Electric Vehicle (BEV)\",\"Plug-in Hybrid Electric Vehicle (PHEV)\",\"Battery Electric Vehicle (BEV)\",\"Battery Electric Vehicle (BEV)\",\"Plug-in Hybrid Electric Vehicle (PHEV)\",...,\"Battery Electric Vehicle (BEV)\",\"Battery Electric Vehicle (BEV)\",\"Battery Electric Vehicle (BEV)\",\"Battery Electric Vehicle (BEV)\",\"Battery Electric Vehicle (BEV)\"],[\"Plug-in Hybrid Electric Vehicle (PHEV)\",\"Plug-in Hybrid Electric Vehicle (PHEV)\",\"Battery Electric Vehicle (BEV)\",\"Battery Electric Vehicle (BEV)\",\"Battery Electric Vehicle (BEV)\",...,\"Plug-in Hybrid Electric Vehicle (PHEV)\",\"Battery Electric Vehicle (BEV)\",\"Battery Electric Vehicle (BEV)\",\"Plug-in Hybrid Electric Vehicle (PHEV)\",\"Battery Electric Vehicle (BEV)\"]]\n",
       "Clean Alternative Fuel Vehicle (CAFV) Eligibility: [[\"Clean Alternative Fuel Vehicle Eligible\",\"Not eligible due to low battery range\",\"Clean Alternative Fuel Vehicle Eligible\",\"Not eligible due to low battery range\",\"Clean Alternative Fuel Vehicle Eligible\",...,\"Eligibility unknown as battery range has not been researched\",\"Eligibility unknown as battery range has not been researched\",\"Eligibility unknown as battery range has not been researched\",\"Eligibility unknown as battery range has not been researched\",\"Eligibility unknown as battery range has not been researched\"],[\"Clean Alternative Fuel Vehicle Eligible\",\"Not eligible due to low battery range\",\"Eligibility unknown as battery range has not been researched\",\"Eligibility unknown as battery range has not been researched\",\"Not eligible due to low battery range\",...,\"Clean Alternative Fuel Vehicle Eligible\",\"Clean Alternative Fuel Vehicle Eligible\",\"Eligibility unknown as battery range has not been researched\",\"Clean Alternative Fuel Vehicle Eligible\",\"Not eligible due to low battery range\"],...,[\"Eligibility unknown as battery range has not been researched\",\"Clean Alternative Fuel Vehicle Eligible\",\"Eligibility unknown as battery range has not been researched\",\"Eligibility unknown as battery range has not been researched\",\"Clean Alternative Fuel Vehicle Eligible\",...,\"Clean Alternative Fuel Vehicle Eligible\",\"Eligibility unknown as battery range has not been researched\",\"Eligibility unknown as battery range has not been researched\",\"Eligibility unknown as battery range has not been researched\",\"Eligibility unknown as battery range has not been researched\"],[\"Not eligible due to low battery range\",\"Clean Alternative Fuel Vehicle Eligible\",\"Eligibility unknown as battery range has not been researched\",\"Eligibility unknown as battery range has not been researched\",\"Eligibility unknown as battery range has not been researched\",...,\"Clean Alternative Fuel Vehicle Eligible\",\"Eligibility unknown as battery range has not been researched\",\"Eligibility unknown as battery range has not been researched\",\"Clean Alternative Fuel Vehicle Eligible\",\"Eligibility unknown as battery range has not been researched\"]]\n",
       "..."
      ]
     },
     "execution_count": 5,
     "metadata": {},
     "output_type": "execute_result"
    }
   ],
   "source": [
    "arrow = dg.to_arrow_table()\n",
    "arrow"
   ]
  },
  {
   "cell_type": "markdown",
   "metadata": {},
   "source": [
    "### Return data as a Polars dataframe. Optionally, you can convert to Pandas if you run `df = dg.to_dataframe().to_pandas()`."
   ]
  },
  {
   "cell_type": "code",
   "execution_count": 6,
   "metadata": {},
   "outputs": [
    {
     "data": {
      "text/html": [
       "<div><style>\n",
       ".dataframe > thead > tr,\n",
       ".dataframe > tbody > tr {\n",
       "  text-align: right;\n",
       "  white-space: pre-wrap;\n",
       "}\n",
       "</style>\n",
       "<small>shape: (200_048, 17)</small><table border=\"1\" class=\"dataframe\"><thead><tr><th>VIN (1-10)</th><th>County</th><th>City</th><th>State</th><th>Postal Code</th><th>Model Year</th><th>Make</th><th>Model</th><th>Electric Vehicle Type</th><th>Clean Alternative Fuel Vehicle (CAFV) Eligibility</th><th>Electric Range</th><th>Base MSRP</th><th>Legislative District</th><th>DOL Vehicle ID</th><th>Vehicle Location</th><th>Electric Utility</th><th>2020 Census Tract</th></tr><tr><td>str</td><td>str</td><td>str</td><td>str</td><td>i64</td><td>i64</td><td>str</td><td>str</td><td>str</td><td>str</td><td>i64</td><td>i64</td><td>i64</td><td>i64</td><td>str</td><td>str</td><td>i64</td></tr></thead><tbody><tr><td>&quot;5YJSA1E28K&quot;</td><td>&quot;Snohomish&quot;</td><td>&quot;Mukilteo&quot;</td><td>&quot;WA&quot;</td><td>98275</td><td>2019</td><td>&quot;TESLA&quot;</td><td>&quot;MODEL S&quot;</td><td>&quot;Battery Electric Vehicle (BEV)&quot;</td><td>&quot;Clean Alternative Fuel Vehicle…</td><td>270</td><td>0</td><td>21</td><td>236424583</td><td>&quot;POINT (-122.29943 47.912654)&quot;</td><td>&quot;PUGET SOUND ENERGY INC&quot;</td><td>53061042001</td></tr><tr><td>&quot;1C4JJXP68P&quot;</td><td>&quot;Yakima&quot;</td><td>&quot;Yakima&quot;</td><td>&quot;WA&quot;</td><td>98901</td><td>2023</td><td>&quot;JEEP&quot;</td><td>&quot;WRANGLER&quot;</td><td>&quot;Plug-in Hybrid Electric Vehicl…</td><td>&quot;Not eligible due to low batter…</td><td>21</td><td>0</td><td>15</td><td>249905295</td><td>&quot;POINT (-120.4688751 46.6046178…</td><td>&quot;PACIFICORP&quot;</td><td>53077001601</td></tr><tr><td>&quot;WBY8P6C05L&quot;</td><td>&quot;Kitsap&quot;</td><td>&quot;Kingston&quot;</td><td>&quot;WA&quot;</td><td>98346</td><td>2020</td><td>&quot;BMW&quot;</td><td>&quot;I3&quot;</td><td>&quot;Battery Electric Vehicle (BEV)&quot;</td><td>&quot;Clean Alternative Fuel Vehicle…</td><td>153</td><td>0</td><td>23</td><td>260917289</td><td>&quot;POINT (-122.5178351 47.7981436…</td><td>&quot;PUGET SOUND ENERGY INC&quot;</td><td>53035090102</td></tr><tr><td>&quot;JTDKARFP1J&quot;</td><td>&quot;Kitsap&quot;</td><td>&quot;Port Orchard&quot;</td><td>&quot;WA&quot;</td><td>98367</td><td>2018</td><td>&quot;TOYOTA&quot;</td><td>&quot;PRIUS PRIME&quot;</td><td>&quot;Plug-in Hybrid Electric Vehicl…</td><td>&quot;Not eligible due to low batter…</td><td>25</td><td>0</td><td>26</td><td>186410087</td><td>&quot;POINT (-122.6530052 47.4739066…</td><td>&quot;PUGET SOUND ENERGY INC&quot;</td><td>53035092802</td></tr><tr><td>&quot;5UXTA6C09N&quot;</td><td>&quot;Snohomish&quot;</td><td>&quot;Everett&quot;</td><td>&quot;WA&quot;</td><td>98208</td><td>2022</td><td>&quot;BMW&quot;</td><td>&quot;X5&quot;</td><td>&quot;Plug-in Hybrid Electric Vehicl…</td><td>&quot;Clean Alternative Fuel Vehicle…</td><td>30</td><td>0</td><td>44</td><td>186076915</td><td>&quot;POINT (-122.2032349 47.8956271…</td><td>&quot;PUGET SOUND ENERGY INC&quot;</td><td>53061041605</td></tr><tr><td>&hellip;</td><td>&hellip;</td><td>&hellip;</td><td>&hellip;</td><td>&hellip;</td><td>&hellip;</td><td>&hellip;</td><td>&hellip;</td><td>&hellip;</td><td>&hellip;</td><td>&hellip;</td><td>&hellip;</td><td>&hellip;</td><td>&hellip;</td><td>&hellip;</td><td>&hellip;</td><td>&hellip;</td></tr><tr><td>&quot;JTMAB3FVXR&quot;</td><td>&quot;Snohomish&quot;</td><td>&quot;Snohomish&quot;</td><td>&quot;WA&quot;</td><td>98290</td><td>2024</td><td>&quot;TOYOTA&quot;</td><td>&quot;RAV4 PRIME&quot;</td><td>&quot;Plug-in Hybrid Electric Vehicl…</td><td>&quot;Clean Alternative Fuel Vehicle…</td><td>42</td><td>0</td><td>44</td><td>262809249</td><td>&quot;POINT (-122.0483457 47.9435765…</td><td>&quot;PUGET SOUND ENERGY INC&quot;</td><td>53061052402</td></tr><tr><td>&quot;7FCTGAAA7P&quot;</td><td>&quot;Pierce&quot;</td><td>&quot;Orting&quot;</td><td>&quot;WA&quot;</td><td>98360</td><td>2023</td><td>&quot;RIVIAN&quot;</td><td>&quot;R1T&quot;</td><td>&quot;Battery Electric Vehicle (BEV)&quot;</td><td>&quot;Eligibility unknown as battery…</td><td>0</td><td>0</td><td>2</td><td>252195450</td><td>&quot;POINT (-122.197791 47.0948565)&quot;</td><td>&quot;PUGET SOUND ENERGY INC||CITY O…</td><td>53053070100</td></tr><tr><td>&quot;1V2GNPE87P&quot;</td><td>&quot;Spokane&quot;</td><td>&quot;Spokane&quot;</td><td>&quot;WA&quot;</td><td>99201</td><td>2023</td><td>&quot;VOLKSWAGEN&quot;</td><td>&quot;ID.4&quot;</td><td>&quot;Battery Electric Vehicle (BEV)&quot;</td><td>&quot;Eligibility unknown as battery…</td><td>0</td><td>0</td><td>3</td><td>227314790</td><td>&quot;POINT (-117.428902 47.658268)&quot;</td><td>&quot;MODERN ELECTRIC WATER COMPANY&quot;</td><td>53063002300</td></tr><tr><td>&quot;1G1RD6E42E&quot;</td><td>&quot;Snohomish&quot;</td><td>&quot;Mountlake Terrace&quot;</td><td>&quot;WA&quot;</td><td>98043</td><td>2014</td><td>&quot;CHEVROLET&quot;</td><td>&quot;VOLT&quot;</td><td>&quot;Plug-in Hybrid Electric Vehicl…</td><td>&quot;Clean Alternative Fuel Vehicle…</td><td>38</td><td>0</td><td>32</td><td>170747377</td><td>&quot;POINT (-122.306706 47.792043)&quot;</td><td>&quot;PUGET SOUND ENERGY INC&quot;</td><td>53061051000</td></tr><tr><td>&quot;5YJ3E1EAXP&quot;</td><td>&quot;Kitsap&quot;</td><td>&quot;Bremerton&quot;</td><td>&quot;WA&quot;</td><td>98311</td><td>2023</td><td>&quot;TESLA&quot;</td><td>&quot;MODEL 3&quot;</td><td>&quot;Battery Electric Vehicle (BEV)&quot;</td><td>&quot;Eligibility unknown as battery…</td><td>0</td><td>0</td><td>23</td><td>224663134</td><td>&quot;POINT (-122.636245 47.62806)&quot;</td><td>&quot;PUGET SOUND ENERGY INC&quot;</td><td>53035091600</td></tr></tbody></table></div>"
      ],
      "text/plain": [
       "shape: (200_048, 17)\n",
       "┌────────────┬───────────┬────────────┬───────┬───┬────────────┬───────────┬───────────┬───────────┐\n",
       "│ VIN (1-10) ┆ County    ┆ City       ┆ State ┆ … ┆ DOL        ┆ Vehicle   ┆ Electric  ┆ 2020      │\n",
       "│ ---        ┆ ---       ┆ ---        ┆ ---   ┆   ┆ Vehicle ID ┆ Location  ┆ Utility   ┆ Census    │\n",
       "│ str        ┆ str       ┆ str        ┆ str   ┆   ┆ ---        ┆ ---       ┆ ---       ┆ Tract     │\n",
       "│            ┆           ┆            ┆       ┆   ┆ i64        ┆ str       ┆ str       ┆ ---       │\n",
       "│            ┆           ┆            ┆       ┆   ┆            ┆           ┆           ┆ i64       │\n",
       "╞════════════╪═══════════╪════════════╪═══════╪═══╪════════════╪═══════════╪═══════════╪═══════════╡\n",
       "│ 5YJSA1E28K ┆ Snohomish ┆ Mukilteo   ┆ WA    ┆ … ┆ 236424583  ┆ POINT (-1 ┆ PUGET     ┆ 530610420 │\n",
       "│            ┆           ┆            ┆       ┆   ┆            ┆ 22.29943  ┆ SOUND     ┆ 01        │\n",
       "│            ┆           ┆            ┆       ┆   ┆            ┆ 47.912654 ┆ ENERGY    ┆           │\n",
       "│            ┆           ┆            ┆       ┆   ┆            ┆ )         ┆ INC       ┆           │\n",
       "│ 1C4JJXP68P ┆ Yakima    ┆ Yakima     ┆ WA    ┆ … ┆ 249905295  ┆ POINT (-1 ┆ PACIFICOR ┆ 530770016 │\n",
       "│            ┆           ┆            ┆       ┆   ┆            ┆ 20.468875 ┆ P         ┆ 01        │\n",
       "│            ┆           ┆            ┆       ┆   ┆            ┆ 1 46.6046 ┆           ┆           │\n",
       "│            ┆           ┆            ┆       ┆   ┆            ┆ 178…      ┆           ┆           │\n",
       "│ WBY8P6C05L ┆ Kitsap    ┆ Kingston   ┆ WA    ┆ … ┆ 260917289  ┆ POINT (-1 ┆ PUGET     ┆ 530350901 │\n",
       "│            ┆           ┆            ┆       ┆   ┆            ┆ 22.517835 ┆ SOUND     ┆ 02        │\n",
       "│            ┆           ┆            ┆       ┆   ┆            ┆ 1 47.7981 ┆ ENERGY    ┆           │\n",
       "│            ┆           ┆            ┆       ┆   ┆            ┆ 436…      ┆ INC       ┆           │\n",
       "│ JTDKARFP1J ┆ Kitsap    ┆ Port       ┆ WA    ┆ … ┆ 186410087  ┆ POINT (-1 ┆ PUGET     ┆ 530350928 │\n",
       "│            ┆           ┆ Orchard    ┆       ┆   ┆            ┆ 22.653005 ┆ SOUND     ┆ 02        │\n",
       "│            ┆           ┆            ┆       ┆   ┆            ┆ 2 47.4739 ┆ ENERGY    ┆           │\n",
       "│            ┆           ┆            ┆       ┆   ┆            ┆ 066…      ┆ INC       ┆           │\n",
       "│ 5UXTA6C09N ┆ Snohomish ┆ Everett    ┆ WA    ┆ … ┆ 186076915  ┆ POINT (-1 ┆ PUGET     ┆ 530610416 │\n",
       "│            ┆           ┆            ┆       ┆   ┆            ┆ 22.203234 ┆ SOUND     ┆ 05        │\n",
       "│            ┆           ┆            ┆       ┆   ┆            ┆ 9 47.8956 ┆ ENERGY    ┆           │\n",
       "│            ┆           ┆            ┆       ┆   ┆            ┆ 271…      ┆ INC       ┆           │\n",
       "│ …          ┆ …         ┆ …          ┆ …     ┆ … ┆ …          ┆ …         ┆ …         ┆ …         │\n",
       "│ JTMAB3FVXR ┆ Snohomish ┆ Snohomish  ┆ WA    ┆ … ┆ 262809249  ┆ POINT (-1 ┆ PUGET     ┆ 530610524 │\n",
       "│            ┆           ┆            ┆       ┆   ┆            ┆ 22.048345 ┆ SOUND     ┆ 02        │\n",
       "│            ┆           ┆            ┆       ┆   ┆            ┆ 7 47.9435 ┆ ENERGY    ┆           │\n",
       "│            ┆           ┆            ┆       ┆   ┆            ┆ 765…      ┆ INC       ┆           │\n",
       "│ 7FCTGAAA7P ┆ Pierce    ┆ Orting     ┆ WA    ┆ … ┆ 252195450  ┆ POINT (-1 ┆ PUGET     ┆ 530530701 │\n",
       "│            ┆           ┆            ┆       ┆   ┆            ┆ 22.197791 ┆ SOUND     ┆ 00        │\n",
       "│            ┆           ┆            ┆       ┆   ┆            ┆ 47.094856 ┆ ENERGY    ┆           │\n",
       "│            ┆           ┆            ┆       ┆   ┆            ┆ 5)        ┆ INC||CITY ┆           │\n",
       "│            ┆           ┆            ┆       ┆   ┆            ┆           ┆ O…        ┆           │\n",
       "│ 1V2GNPE87P ┆ Spokane   ┆ Spokane    ┆ WA    ┆ … ┆ 227314790  ┆ POINT (-1 ┆ MODERN    ┆ 530630023 │\n",
       "│            ┆           ┆            ┆       ┆   ┆            ┆ 17.428902 ┆ ELECTRIC  ┆ 00        │\n",
       "│            ┆           ┆            ┆       ┆   ┆            ┆ 47.658268 ┆ WATER     ┆           │\n",
       "│            ┆           ┆            ┆       ┆   ┆            ┆ )         ┆ COMPANY   ┆           │\n",
       "│ 1G1RD6E42E ┆ Snohomish ┆ Mountlake  ┆ WA    ┆ … ┆ 170747377  ┆ POINT (-1 ┆ PUGET     ┆ 530610510 │\n",
       "│            ┆           ┆ Terrace    ┆       ┆   ┆            ┆ 22.306706 ┆ SOUND     ┆ 00        │\n",
       "│            ┆           ┆            ┆       ┆   ┆            ┆ 47.792043 ┆ ENERGY    ┆           │\n",
       "│            ┆           ┆            ┆       ┆   ┆            ┆ )         ┆ INC       ┆           │\n",
       "│ 5YJ3E1EAXP ┆ Kitsap    ┆ Bremerton  ┆ WA    ┆ … ┆ 224663134  ┆ POINT (-1 ┆ PUGET     ┆ 530350916 │\n",
       "│            ┆           ┆            ┆       ┆   ┆            ┆ 22.636245 ┆ SOUND     ┆ 00        │\n",
       "│            ┆           ┆            ┆       ┆   ┆            ┆ 47.62806) ┆ ENERGY    ┆           │\n",
       "│            ┆           ┆            ┆       ┆   ┆            ┆           ┆ INC       ┆           │\n",
       "└────────────┴───────────┴────────────┴───────┴───┴────────────┴───────────┴───────────┴───────────┘"
      ]
     },
     "execution_count": 6,
     "metadata": {},
     "output_type": "execute_result"
    }
   ],
   "source": [
    "df = dg.to_dataframe()\n",
    "df"
   ]
  },
  {
   "cell_type": "markdown",
   "metadata": {},
   "source": [
    "### Return a list of dictionaries and get the first dictionary in the list."
   ]
  },
  {
   "cell_type": "code",
   "execution_count": 7,
   "metadata": {},
   "outputs": [
    {
     "data": {
      "text/plain": [
       "{'VIN (1-10)': '5YJSA1E28K',\n",
       " 'County': 'Snohomish',\n",
       " 'City': 'Mukilteo',\n",
       " 'State': 'WA',\n",
       " 'Postal Code': 98275,\n",
       " 'Model Year': 2019,\n",
       " 'Make': 'TESLA',\n",
       " 'Model': 'MODEL S',\n",
       " 'Electric Vehicle Type': 'Battery Electric Vehicle (BEV)',\n",
       " 'Clean Alternative Fuel Vehicle (CAFV) Eligibility': 'Clean Alternative Fuel Vehicle Eligible',\n",
       " 'Electric Range': 270,\n",
       " 'Base MSRP': 0,\n",
       " 'Legislative District': 21,\n",
       " 'DOL Vehicle ID': 236424583,\n",
       " 'Vehicle Location': 'POINT (-122.29943 47.912654)',\n",
       " 'Electric Utility': 'PUGET SOUND ENERGY INC',\n",
       " '2020 Census Tract': 53061042001}"
      ]
     },
     "execution_count": 7,
     "metadata": {},
     "output_type": "execute_result"
    }
   ],
   "source": [
    "list_of_dicts = dg.to_dicts()\n",
    "list_of_dicts[0]"
   ]
  }
 ],
 "metadata": {
  "kernelspec": {
   "display_name": ".venv",
   "language": "python",
   "name": "python3"
  },
  "language_info": {
   "codemirror_mode": {
    "name": "ipython",
    "version": 3
   },
   "file_extension": ".py",
   "mimetype": "text/x-python",
   "name": "python",
   "nbconvert_exporter": "python",
   "pygments_lexer": "ipython3",
   "version": "3.12.5"
  }
 },
 "nbformat": 4,
 "nbformat_minor": 2
}
