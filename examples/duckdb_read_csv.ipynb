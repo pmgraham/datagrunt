{
 "cells": [
  {
   "cell_type": "code",
   "execution_count": 1,
   "metadata": {},
   "outputs": [],
   "source": [
    "from datagrunt.csvfile import CSVReader"
   ]
  },
  {
   "cell_type": "markdown",
   "metadata": {},
   "source": [
    "### Set `duckdb` as the processing engine."
   ]
  },
  {
   "cell_type": "code",
   "execution_count": 2,
   "metadata": {},
   "outputs": [],
   "source": [
    "csv_file = 'data/electric_vehicle_population_data.csv'\n",
    "engine = 'duckdb'"
   ]
  },
  {
   "cell_type": "code",
   "execution_count": 3,
   "metadata": {},
   "outputs": [],
   "source": [
    "dg = CSVReader(csv_file, engine=engine) # set duckdb as the processing engine."
   ]
  },
  {
   "cell_type": "markdown",
   "metadata": {},
   "source": [
    "### Return a sample of the CSV file to peek into the schema"
   ]
  },
  {
   "cell_type": "code",
   "execution_count": 4,
   "metadata": {},
   "outputs": [
    {
     "name": "stdout",
     "output_type": "stream",
     "text": [
      "┌────────────┬───────────┬──────────────┬───┬──────────────────────┬──────────────────────┬───────────────────┐\n",
      "│ VIN (1-10) │  County   │     City     │ … │   Vehicle Location   │   Electric Utility   │ 2020 Census Tract │\n",
      "│  varchar   │  varchar  │   varchar    │   │       varchar        │       varchar        │      varchar      │\n",
      "├────────────┼───────────┼──────────────┼───┼──────────────────────┼──────────────────────┼───────────────────┤\n",
      "│ 5YJSA1E28K │ Snohomish │ Mukilteo     │ … │ POINT (-122.29943 …  │ PUGET SOUND ENERGY…  │ 53061042001       │\n",
      "│ 1C4JJXP68P │ Yakima    │ Yakima       │ … │ POINT (-120.468875…  │ PACIFICORP           │ 53077001601       │\n",
      "│ WBY8P6C05L │ Kitsap    │ Kingston     │ … │ POINT (-122.517835…  │ PUGET SOUND ENERGY…  │ 53035090102       │\n",
      "│ JTDKARFP1J │ Kitsap    │ Port Orchard │ … │ POINT (-122.653005…  │ PUGET SOUND ENERGY…  │ 53035092802       │\n",
      "│ 5UXTA6C09N │ Snohomish │ Everett      │ … │ POINT (-122.203234…  │ PUGET SOUND ENERGY…  │ 53061041605       │\n",
      "│ 5YJYGDEF8L │ King      │ Seattle      │ … │ POINT (-122.378886…  │ CITY OF SEATTLE - …  │ 53033004703       │\n",
      "│ JTMAB3FV7P │ Thurston  │ Rainier      │ … │ POINT (-122.677141…  │ PUGET SOUND ENERGY…  │ 53067012530       │\n",
      "│ JN1AZ0CPXC │ King      │ Kirkland     │ … │ POINT (-122.192596…  │ PUGET SOUND ENERGY…  │ 53033022402       │\n",
      "│ JN1AZ0CP7B │ King      │ Kirkland     │ … │ POINT (-122.192596…  │ PUGET SOUND ENERGY…  │ 53033022603       │\n",
      "│ 1N4AZ0CP0F │ Thurston  │ Olympia      │ … │ POINT (-122.86491 …  │ PUGET SOUND ENERGY…  │ 53067010300       │\n",
      "│     ·      │   ·       │    ·         │ · │          ·           │          ·           │      ·            │\n",
      "│     ·      │   ·       │    ·         │ · │          ·           │          ·           │      ·            │\n",
      "│     ·      │   ·       │    ·         │ · │          ·           │          ·           │      ·            │\n",
      "│ 5YJYGDEE7M │ Clark     │ Vancouver    │ … │ POINT (-122.515805…  │ BONNEVILLE POWER A…  │ 53011041310       │\n",
      "│ 7SAYGAEE0P │ Snohomish │ Monroe       │ … │ POINT (-121.968385…  │ PUGET SOUND ENERGY…  │ 53061052203       │\n",
      "│ 2C4RC1N75P │ King      │ Burien       │ … │ POINT (-122.347227…  │ CITY OF SEATTLE - …  │ 53033027600       │\n",
      "│ 1FTVW1EVXP │ King      │ Kirkland     │ … │ POINT (-122.202653…  │ PUGET SOUND ENERGY…  │ 53033022300       │\n",
      "│ 4JGGM1CB2P │ King      │ Seattle      │ … │ POINT (-122.2453 4…  │ CITY OF SEATTLE - …  │ 53033011700       │\n",
      "│ 1N4BZ0CP0G │ King      │ Seattle      │ … │ POINT (-122.334079…  │ CITY OF SEATTLE - …  │ 53033008300       │\n",
      "│ 7SAYGDEF2N │ King      │ Bellevue     │ … │ POINT (-122.144149…  │ PUGET SOUND ENERGY…  │ 53033024704       │\n",
      "│ 1N4BZ1DP7L │ King      │ Bellevue     │ … │ POINT (-122.144149…  │ PUGET SOUND ENERGY…  │ 53033024902       │\n",
      "│ 1V2GNPE82P │ King      │ Kirkland     │ … │ POINT (-122.202653…  │ PUGET SOUND ENERGY…  │ 53033022201       │\n",
      "│ 7SAYGDEE7P │ Kitsap    │ Bremerton    │ … │ POINT (-122.696120…  │ PUGET SOUND ENERGY…  │ 53035080700       │\n",
      "├────────────┴───────────┴──────────────┴───┴──────────────────────┴──────────────────────┴───────────────────┤\n",
      "│ ? rows (>9999 rows, 20 shown)                                                          17 columns (6 shown) │\n",
      "└─────────────────────────────────────────────────────────────────────────────────────────────────────────────┘\n",
      "\n"
     ]
    }
   ],
   "source": [
    "dg.get_sample() # return sample of the data to get a peek at the schema"
   ]
  },
  {
   "cell_type": "markdown",
   "metadata": {},
   "source": [
    "### Return data as a Pyarrow table"
   ]
  },
  {
   "cell_type": "code",
   "execution_count": 5,
   "metadata": {},
   "outputs": [
    {
     "data": {
      "text/plain": [
       "pyarrow.Table\n",
       "VIN (1-10): string\n",
       "County: string\n",
       "City: string\n",
       "State: string\n",
       "Postal Code: string\n",
       "Model Year: string\n",
       "Make: string\n",
       "Model: string\n",
       "Electric Vehicle Type: string\n",
       "Clean Alternative Fuel Vehicle (CAFV) Eligibility: string\n",
       "Electric Range: string\n",
       "Base MSRP: string\n",
       "Legislative District: string\n",
       "DOL Vehicle ID: string\n",
       "Vehicle Location: string\n",
       "Electric Utility: string\n",
       "2020 Census Tract: string\n",
       "----\n",
       "VIN (1-10): [[\"5YJSA1E28K\",\"1C4JJXP68P\",\"WBY8P6C05L\",\"JTDKARFP1J\",\"5UXTA6C09N\",...,\"JTMAB3FVXR\",\"7FCTGAAA7P\",\"1V2GNPE87P\",\"1G1RD6E42E\",\"5YJ3E1EAXP\"]]\n",
       "County: [[\"Snohomish\",\"Yakima\",\"Kitsap\",\"Kitsap\",\"Snohomish\",...,\"Snohomish\",\"Pierce\",\"Spokane\",\"Snohomish\",\"Kitsap\"]]\n",
       "City: [[\"Mukilteo\",\"Yakima\",\"Kingston\",\"Port Orchard\",\"Everett\",...,\"Snohomish\",\"Orting\",\"Spokane\",\"Mountlake Terrace\",\"Bremerton\"]]\n",
       "State: [[\"WA\",\"WA\",\"WA\",\"WA\",\"WA\",...,\"WA\",\"WA\",\"WA\",\"WA\",\"WA\"]]\n",
       "Postal Code: [[\"98275\",\"98901\",\"98346\",\"98367\",\"98208\",...,\"98290\",\"98360\",\"99201\",\"98043\",\"98311\"]]\n",
       "Model Year: [[\"2019\",\"2023\",\"2020\",\"2018\",\"2022\",...,\"2024\",\"2023\",\"2023\",\"2014\",\"2023\"]]\n",
       "Make: [[\"TESLA\",\"JEEP\",\"BMW\",\"TOYOTA\",\"BMW\",...,\"TOYOTA\",\"RIVIAN\",\"VOLKSWAGEN\",\"CHEVROLET\",\"TESLA\"]]\n",
       "Model: [[\"MODEL S\",\"WRANGLER\",\"I3\",\"PRIUS PRIME\",\"X5\",...,\"RAV4 PRIME\",\"R1T\",\"ID.4\",\"VOLT\",\"MODEL 3\"]]\n",
       "Electric Vehicle Type: [[\"Battery Electric Vehicle (BEV)\",\"Plug-in Hybrid Electric Vehicle (PHEV)\",\"Battery Electric Vehicle (BEV)\",\"Plug-in Hybrid Electric Vehicle (PHEV)\",\"Plug-in Hybrid Electric Vehicle (PHEV)\",...,\"Plug-in Hybrid Electric Vehicle (PHEV)\",\"Battery Electric Vehicle (BEV)\",\"Battery Electric Vehicle (BEV)\",\"Plug-in Hybrid Electric Vehicle (PHEV)\",\"Battery Electric Vehicle (BEV)\"]]\n",
       "Clean Alternative Fuel Vehicle (CAFV) Eligibility: [[\"Clean Alternative Fuel Vehicle Eligible\",\"Not eligible due to low battery range\",\"Clean Alternative Fuel Vehicle Eligible\",\"Not eligible due to low battery range\",\"Clean Alternative Fuel Vehicle Eligible\",...,\"Clean Alternative Fuel Vehicle Eligible\",\"Eligibility unknown as battery range has not been researched\",\"Eligibility unknown as battery range has not been researched\",\"Clean Alternative Fuel Vehicle Eligible\",\"Eligibility unknown as battery range has not been researched\"]]\n",
       "..."
      ]
     },
     "execution_count": 5,
     "metadata": {},
     "output_type": "execute_result"
    }
   ],
   "source": [
    "arrow = dg.to_arrow_table()\n",
    "arrow\n"
   ]
  },
  {
   "cell_type": "markdown",
   "metadata": {},
   "source": [
    "### Return data as a Polars dataframe. Optionally, you can convert to Pandas if you run `df = dg.to_dataframe().to_pandas()`."
   ]
  },
  {
   "cell_type": "code",
   "execution_count": 6,
   "metadata": {},
   "outputs": [
    {
     "data": {
      "text/html": [
       "<div><style>\n",
       ".dataframe > thead > tr,\n",
       ".dataframe > tbody > tr {\n",
       "  text-align: right;\n",
       "  white-space: pre-wrap;\n",
       "}\n",
       "</style>\n",
       "<small>shape: (200_048, 17)</small><table border=\"1\" class=\"dataframe\"><thead><tr><th>VIN (1-10)</th><th>County</th><th>City</th><th>State</th><th>Postal Code</th><th>Model Year</th><th>Make</th><th>Model</th><th>Electric Vehicle Type</th><th>Clean Alternative Fuel Vehicle (CAFV) Eligibility</th><th>Electric Range</th><th>Base MSRP</th><th>Legislative District</th><th>DOL Vehicle ID</th><th>Vehicle Location</th><th>Electric Utility</th><th>2020 Census Tract</th></tr><tr><td>str</td><td>str</td><td>str</td><td>str</td><td>str</td><td>str</td><td>str</td><td>str</td><td>str</td><td>str</td><td>str</td><td>str</td><td>str</td><td>str</td><td>str</td><td>str</td><td>str</td></tr></thead><tbody><tr><td>&quot;5YJSA1E28K&quot;</td><td>&quot;Snohomish&quot;</td><td>&quot;Mukilteo&quot;</td><td>&quot;WA&quot;</td><td>&quot;98275&quot;</td><td>&quot;2019&quot;</td><td>&quot;TESLA&quot;</td><td>&quot;MODEL S&quot;</td><td>&quot;Battery Electric Vehicle (BEV)&quot;</td><td>&quot;Clean Alternative Fuel Vehicle…</td><td>&quot;270&quot;</td><td>&quot;0&quot;</td><td>&quot;21&quot;</td><td>&quot;236424583&quot;</td><td>&quot;POINT (-122.29943 47.912654)&quot;</td><td>&quot;PUGET SOUND ENERGY INC&quot;</td><td>&quot;53061042001&quot;</td></tr><tr><td>&quot;1C4JJXP68P&quot;</td><td>&quot;Yakima&quot;</td><td>&quot;Yakima&quot;</td><td>&quot;WA&quot;</td><td>&quot;98901&quot;</td><td>&quot;2023&quot;</td><td>&quot;JEEP&quot;</td><td>&quot;WRANGLER&quot;</td><td>&quot;Plug-in Hybrid Electric Vehicl…</td><td>&quot;Not eligible due to low batter…</td><td>&quot;21&quot;</td><td>&quot;0&quot;</td><td>&quot;15&quot;</td><td>&quot;249905295&quot;</td><td>&quot;POINT (-120.4688751 46.6046178…</td><td>&quot;PACIFICORP&quot;</td><td>&quot;53077001601&quot;</td></tr><tr><td>&quot;WBY8P6C05L&quot;</td><td>&quot;Kitsap&quot;</td><td>&quot;Kingston&quot;</td><td>&quot;WA&quot;</td><td>&quot;98346&quot;</td><td>&quot;2020&quot;</td><td>&quot;BMW&quot;</td><td>&quot;I3&quot;</td><td>&quot;Battery Electric Vehicle (BEV)&quot;</td><td>&quot;Clean Alternative Fuel Vehicle…</td><td>&quot;153&quot;</td><td>&quot;0&quot;</td><td>&quot;23&quot;</td><td>&quot;260917289&quot;</td><td>&quot;POINT (-122.5178351 47.7981436…</td><td>&quot;PUGET SOUND ENERGY INC&quot;</td><td>&quot;53035090102&quot;</td></tr><tr><td>&quot;JTDKARFP1J&quot;</td><td>&quot;Kitsap&quot;</td><td>&quot;Port Orchard&quot;</td><td>&quot;WA&quot;</td><td>&quot;98367&quot;</td><td>&quot;2018&quot;</td><td>&quot;TOYOTA&quot;</td><td>&quot;PRIUS PRIME&quot;</td><td>&quot;Plug-in Hybrid Electric Vehicl…</td><td>&quot;Not eligible due to low batter…</td><td>&quot;25&quot;</td><td>&quot;0&quot;</td><td>&quot;26&quot;</td><td>&quot;186410087&quot;</td><td>&quot;POINT (-122.6530052 47.4739066…</td><td>&quot;PUGET SOUND ENERGY INC&quot;</td><td>&quot;53035092802&quot;</td></tr><tr><td>&quot;5UXTA6C09N&quot;</td><td>&quot;Snohomish&quot;</td><td>&quot;Everett&quot;</td><td>&quot;WA&quot;</td><td>&quot;98208&quot;</td><td>&quot;2022&quot;</td><td>&quot;BMW&quot;</td><td>&quot;X5&quot;</td><td>&quot;Plug-in Hybrid Electric Vehicl…</td><td>&quot;Clean Alternative Fuel Vehicle…</td><td>&quot;30&quot;</td><td>&quot;0&quot;</td><td>&quot;44&quot;</td><td>&quot;186076915&quot;</td><td>&quot;POINT (-122.2032349 47.8956271…</td><td>&quot;PUGET SOUND ENERGY INC&quot;</td><td>&quot;53061041605&quot;</td></tr><tr><td>&hellip;</td><td>&hellip;</td><td>&hellip;</td><td>&hellip;</td><td>&hellip;</td><td>&hellip;</td><td>&hellip;</td><td>&hellip;</td><td>&hellip;</td><td>&hellip;</td><td>&hellip;</td><td>&hellip;</td><td>&hellip;</td><td>&hellip;</td><td>&hellip;</td><td>&hellip;</td><td>&hellip;</td></tr><tr><td>&quot;JTMAB3FVXR&quot;</td><td>&quot;Snohomish&quot;</td><td>&quot;Snohomish&quot;</td><td>&quot;WA&quot;</td><td>&quot;98290&quot;</td><td>&quot;2024&quot;</td><td>&quot;TOYOTA&quot;</td><td>&quot;RAV4 PRIME&quot;</td><td>&quot;Plug-in Hybrid Electric Vehicl…</td><td>&quot;Clean Alternative Fuel Vehicle…</td><td>&quot;42&quot;</td><td>&quot;0&quot;</td><td>&quot;44&quot;</td><td>&quot;262809249&quot;</td><td>&quot;POINT (-122.0483457 47.9435765…</td><td>&quot;PUGET SOUND ENERGY INC&quot;</td><td>&quot;53061052402&quot;</td></tr><tr><td>&quot;7FCTGAAA7P&quot;</td><td>&quot;Pierce&quot;</td><td>&quot;Orting&quot;</td><td>&quot;WA&quot;</td><td>&quot;98360&quot;</td><td>&quot;2023&quot;</td><td>&quot;RIVIAN&quot;</td><td>&quot;R1T&quot;</td><td>&quot;Battery Electric Vehicle (BEV)&quot;</td><td>&quot;Eligibility unknown as battery…</td><td>&quot;0&quot;</td><td>&quot;0&quot;</td><td>&quot;2&quot;</td><td>&quot;252195450&quot;</td><td>&quot;POINT (-122.197791 47.0948565)&quot;</td><td>&quot;PUGET SOUND ENERGY INC||CITY O…</td><td>&quot;53053070100&quot;</td></tr><tr><td>&quot;1V2GNPE87P&quot;</td><td>&quot;Spokane&quot;</td><td>&quot;Spokane&quot;</td><td>&quot;WA&quot;</td><td>&quot;99201&quot;</td><td>&quot;2023&quot;</td><td>&quot;VOLKSWAGEN&quot;</td><td>&quot;ID.4&quot;</td><td>&quot;Battery Electric Vehicle (BEV)&quot;</td><td>&quot;Eligibility unknown as battery…</td><td>&quot;0&quot;</td><td>&quot;0&quot;</td><td>&quot;3&quot;</td><td>&quot;227314790&quot;</td><td>&quot;POINT (-117.428902 47.658268)&quot;</td><td>&quot;MODERN ELECTRIC WATER COMPANY&quot;</td><td>&quot;53063002300&quot;</td></tr><tr><td>&quot;1G1RD6E42E&quot;</td><td>&quot;Snohomish&quot;</td><td>&quot;Mountlake Terrace&quot;</td><td>&quot;WA&quot;</td><td>&quot;98043&quot;</td><td>&quot;2014&quot;</td><td>&quot;CHEVROLET&quot;</td><td>&quot;VOLT&quot;</td><td>&quot;Plug-in Hybrid Electric Vehicl…</td><td>&quot;Clean Alternative Fuel Vehicle…</td><td>&quot;38&quot;</td><td>&quot;0&quot;</td><td>&quot;32&quot;</td><td>&quot;170747377&quot;</td><td>&quot;POINT (-122.306706 47.792043)&quot;</td><td>&quot;PUGET SOUND ENERGY INC&quot;</td><td>&quot;53061051000&quot;</td></tr><tr><td>&quot;5YJ3E1EAXP&quot;</td><td>&quot;Kitsap&quot;</td><td>&quot;Bremerton&quot;</td><td>&quot;WA&quot;</td><td>&quot;98311&quot;</td><td>&quot;2023&quot;</td><td>&quot;TESLA&quot;</td><td>&quot;MODEL 3&quot;</td><td>&quot;Battery Electric Vehicle (BEV)&quot;</td><td>&quot;Eligibility unknown as battery…</td><td>&quot;0&quot;</td><td>&quot;0&quot;</td><td>&quot;23&quot;</td><td>&quot;224663134&quot;</td><td>&quot;POINT (-122.636245 47.62806)&quot;</td><td>&quot;PUGET SOUND ENERGY INC&quot;</td><td>&quot;53035091600&quot;</td></tr></tbody></table></div>"
      ],
      "text/plain": [
       "shape: (200_048, 17)\n",
       "┌────────────┬───────────┬────────────┬───────┬───┬────────────┬───────────┬───────────┬───────────┐\n",
       "│ VIN (1-10) ┆ County    ┆ City       ┆ State ┆ … ┆ DOL        ┆ Vehicle   ┆ Electric  ┆ 2020      │\n",
       "│ ---        ┆ ---       ┆ ---        ┆ ---   ┆   ┆ Vehicle ID ┆ Location  ┆ Utility   ┆ Census    │\n",
       "│ str        ┆ str       ┆ str        ┆ str   ┆   ┆ ---        ┆ ---       ┆ ---       ┆ Tract     │\n",
       "│            ┆           ┆            ┆       ┆   ┆ str        ┆ str       ┆ str       ┆ ---       │\n",
       "│            ┆           ┆            ┆       ┆   ┆            ┆           ┆           ┆ str       │\n",
       "╞════════════╪═══════════╪════════════╪═══════╪═══╪════════════╪═══════════╪═══════════╪═══════════╡\n",
       "│ 5YJSA1E28K ┆ Snohomish ┆ Mukilteo   ┆ WA    ┆ … ┆ 236424583  ┆ POINT (-1 ┆ PUGET     ┆ 530610420 │\n",
       "│            ┆           ┆            ┆       ┆   ┆            ┆ 22.29943  ┆ SOUND     ┆ 01        │\n",
       "│            ┆           ┆            ┆       ┆   ┆            ┆ 47.912654 ┆ ENERGY    ┆           │\n",
       "│            ┆           ┆            ┆       ┆   ┆            ┆ )         ┆ INC       ┆           │\n",
       "│ 1C4JJXP68P ┆ Yakima    ┆ Yakima     ┆ WA    ┆ … ┆ 249905295  ┆ POINT (-1 ┆ PACIFICOR ┆ 530770016 │\n",
       "│            ┆           ┆            ┆       ┆   ┆            ┆ 20.468875 ┆ P         ┆ 01        │\n",
       "│            ┆           ┆            ┆       ┆   ┆            ┆ 1 46.6046 ┆           ┆           │\n",
       "│            ┆           ┆            ┆       ┆   ┆            ┆ 178…      ┆           ┆           │\n",
       "│ WBY8P6C05L ┆ Kitsap    ┆ Kingston   ┆ WA    ┆ … ┆ 260917289  ┆ POINT (-1 ┆ PUGET     ┆ 530350901 │\n",
       "│            ┆           ┆            ┆       ┆   ┆            ┆ 22.517835 ┆ SOUND     ┆ 02        │\n",
       "│            ┆           ┆            ┆       ┆   ┆            ┆ 1 47.7981 ┆ ENERGY    ┆           │\n",
       "│            ┆           ┆            ┆       ┆   ┆            ┆ 436…      ┆ INC       ┆           │\n",
       "│ JTDKARFP1J ┆ Kitsap    ┆ Port       ┆ WA    ┆ … ┆ 186410087  ┆ POINT (-1 ┆ PUGET     ┆ 530350928 │\n",
       "│            ┆           ┆ Orchard    ┆       ┆   ┆            ┆ 22.653005 ┆ SOUND     ┆ 02        │\n",
       "│            ┆           ┆            ┆       ┆   ┆            ┆ 2 47.4739 ┆ ENERGY    ┆           │\n",
       "│            ┆           ┆            ┆       ┆   ┆            ┆ 066…      ┆ INC       ┆           │\n",
       "│ 5UXTA6C09N ┆ Snohomish ┆ Everett    ┆ WA    ┆ … ┆ 186076915  ┆ POINT (-1 ┆ PUGET     ┆ 530610416 │\n",
       "│            ┆           ┆            ┆       ┆   ┆            ┆ 22.203234 ┆ SOUND     ┆ 05        │\n",
       "│            ┆           ┆            ┆       ┆   ┆            ┆ 9 47.8956 ┆ ENERGY    ┆           │\n",
       "│            ┆           ┆            ┆       ┆   ┆            ┆ 271…      ┆ INC       ┆           │\n",
       "│ …          ┆ …         ┆ …          ┆ …     ┆ … ┆ …          ┆ …         ┆ …         ┆ …         │\n",
       "│ JTMAB3FVXR ┆ Snohomish ┆ Snohomish  ┆ WA    ┆ … ┆ 262809249  ┆ POINT (-1 ┆ PUGET     ┆ 530610524 │\n",
       "│            ┆           ┆            ┆       ┆   ┆            ┆ 22.048345 ┆ SOUND     ┆ 02        │\n",
       "│            ┆           ┆            ┆       ┆   ┆            ┆ 7 47.9435 ┆ ENERGY    ┆           │\n",
       "│            ┆           ┆            ┆       ┆   ┆            ┆ 765…      ┆ INC       ┆           │\n",
       "│ 7FCTGAAA7P ┆ Pierce    ┆ Orting     ┆ WA    ┆ … ┆ 252195450  ┆ POINT (-1 ┆ PUGET     ┆ 530530701 │\n",
       "│            ┆           ┆            ┆       ┆   ┆            ┆ 22.197791 ┆ SOUND     ┆ 00        │\n",
       "│            ┆           ┆            ┆       ┆   ┆            ┆ 47.094856 ┆ ENERGY    ┆           │\n",
       "│            ┆           ┆            ┆       ┆   ┆            ┆ 5)        ┆ INC||CITY ┆           │\n",
       "│            ┆           ┆            ┆       ┆   ┆            ┆           ┆ O…        ┆           │\n",
       "│ 1V2GNPE87P ┆ Spokane   ┆ Spokane    ┆ WA    ┆ … ┆ 227314790  ┆ POINT (-1 ┆ MODERN    ┆ 530630023 │\n",
       "│            ┆           ┆            ┆       ┆   ┆            ┆ 17.428902 ┆ ELECTRIC  ┆ 00        │\n",
       "│            ┆           ┆            ┆       ┆   ┆            ┆ 47.658268 ┆ WATER     ┆           │\n",
       "│            ┆           ┆            ┆       ┆   ┆            ┆ )         ┆ COMPANY   ┆           │\n",
       "│ 1G1RD6E42E ┆ Snohomish ┆ Mountlake  ┆ WA    ┆ … ┆ 170747377  ┆ POINT (-1 ┆ PUGET     ┆ 530610510 │\n",
       "│            ┆           ┆ Terrace    ┆       ┆   ┆            ┆ 22.306706 ┆ SOUND     ┆ 00        │\n",
       "│            ┆           ┆            ┆       ┆   ┆            ┆ 47.792043 ┆ ENERGY    ┆           │\n",
       "│            ┆           ┆            ┆       ┆   ┆            ┆ )         ┆ INC       ┆           │\n",
       "│ 5YJ3E1EAXP ┆ Kitsap    ┆ Bremerton  ┆ WA    ┆ … ┆ 224663134  ┆ POINT (-1 ┆ PUGET     ┆ 530350916 │\n",
       "│            ┆           ┆            ┆       ┆   ┆            ┆ 22.636245 ┆ SOUND     ┆ 00        │\n",
       "│            ┆           ┆            ┆       ┆   ┆            ┆ 47.62806) ┆ ENERGY    ┆           │\n",
       "│            ┆           ┆            ┆       ┆   ┆            ┆           ┆ INC       ┆           │\n",
       "└────────────┴───────────┴────────────┴───────┴───┴────────────┴───────────┴───────────┴───────────┘"
      ]
     },
     "execution_count": 6,
     "metadata": {},
     "output_type": "execute_result"
    }
   ],
   "source": [
    "df = dg.to_dataframe()\n",
    "df"
   ]
  },
  {
   "cell_type": "markdown",
   "metadata": {},
   "source": [
    "### Return a list of dictionaries and get the first dictionary in the list."
   ]
  },
  {
   "cell_type": "code",
   "execution_count": 7,
   "metadata": {},
   "outputs": [
    {
     "data": {
      "text/plain": [
       "{'VIN (1-10)': '5YJSA1E28K',\n",
       " 'County': 'Snohomish',\n",
       " 'City': 'Mukilteo',\n",
       " 'State': 'WA',\n",
       " 'Postal Code': '98275',\n",
       " 'Model Year': '2019',\n",
       " 'Make': 'TESLA',\n",
       " 'Model': 'MODEL S',\n",
       " 'Electric Vehicle Type': 'Battery Electric Vehicle (BEV)',\n",
       " 'Clean Alternative Fuel Vehicle (CAFV) Eligibility': 'Clean Alternative Fuel Vehicle Eligible',\n",
       " 'Electric Range': '270',\n",
       " 'Base MSRP': '0',\n",
       " 'Legislative District': '21',\n",
       " 'DOL Vehicle ID': '236424583',\n",
       " 'Vehicle Location': 'POINT (-122.29943 47.912654)',\n",
       " 'Electric Utility': 'PUGET SOUND ENERGY INC',\n",
       " '2020 Census Tract': '53061042001'}"
      ]
     },
     "execution_count": 7,
     "metadata": {},
     "output_type": "execute_result"
    }
   ],
   "source": [
    "list_of_dicts = dg.to_dicts()\n",
    "list_of_dicts[0]"
   ]
  }
 ],
 "metadata": {
  "kernelspec": {
   "display_name": ".venv",
   "language": "python",
   "name": "python3"
  },
  "language_info": {
   "codemirror_mode": {
    "name": "ipython",
    "version": 3
   },
   "file_extension": ".py",
   "mimetype": "text/x-python",
   "name": "python",
   "nbconvert_exporter": "python",
   "pygments_lexer": "ipython3",
   "version": "3.12.5"
  }
 },
 "nbformat": 4,
 "nbformat_minor": 2
}
